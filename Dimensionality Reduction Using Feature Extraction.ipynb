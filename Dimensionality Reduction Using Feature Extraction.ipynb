{
 "cells": [
  {
   "cell_type": "code",
   "execution_count": 1,
   "id": "9dd374be",
   "metadata": {},
   "outputs": [],
   "source": [
    "import numpy as np\n",
    "from sklearn.preprocessing import StandardScaler\n",
    "from sklearn.decomposition import PCA,KernelPCA,NMF,TruncatedSVD\n",
    "from sklearn import datasets\n",
    "from scipy.sparse import csr_matrix\n",
    "from sklearn.datasets import make_circles\n",
    "from sklearn.discriminant_analysis import LinearDiscriminantAnalysis"
   ]
  },
  {
   "cell_type": "markdown",
   "id": "3d8a0b38",
   "metadata": {},
   "source": [
    "9.1 : Reducing Features Using Principal Components"
   ]
  },
  {
   "cell_type": "code",
   "execution_count": 2,
   "id": "7e50eacf",
   "metadata": {},
   "outputs": [
    {
     "name": "stdout",
     "output_type": "stream",
     "text": [
      "Original number of features: 64\n",
      "Reduced number of features: 54\n"
     ]
    }
   ],
   "source": [
    "digits = datasets.load_digits()\n",
    "features = StandardScaler().fit_transform(digits.data)\n",
    "pca = PCA(n_components=0.99,whiten=True)\n",
    "features_pca = pca.fit_transform(features)\n",
    "\n",
    "print(\"Original number of features:\",features.shape[1])\n",
    "print(\"Reduced number of features:\",features_pca.shape[1])"
   ]
  },
  {
   "cell_type": "markdown",
   "id": "06caeaf3",
   "metadata": {},
   "source": [
    "9.2 : Reducing Features When Data Is Linearly Inseparable"
   ]
  },
  {
   "cell_type": "code",
   "execution_count": 3,
   "id": "3a08b095",
   "metadata": {},
   "outputs": [
    {
     "name": "stdout",
     "output_type": "stream",
     "text": [
      "Original number of features: 2\n",
      "Reduced number of features: 1\n"
     ]
    }
   ],
   "source": [
    "features, _ = make_circles(n_samples=1000,random_state=1,noise=0.1,factor=0.1)\n",
    "kpca = KernelPCA(kernel=\"rbf\",gamma=15,n_components=1)\n",
    "features_kpca = kpca.fit_transform(features)\n",
    "print(\"Original number of features:\",features.shape[1])\n",
    "print(\"Reduced number of features:\",features_kpca.shape[1])"
   ]
  },
  {
   "cell_type": "markdown",
   "id": "80916118",
   "metadata": {},
   "source": [
    "9.3 : Reducing Features by Maximizing Class Separability"
   ]
  },
  {
   "cell_type": "code",
   "execution_count": 4,
   "id": "7ea5d0ad",
   "metadata": {},
   "outputs": [
    {
     "name": "stdout",
     "output_type": "stream",
     "text": [
      "Original number of features: 4\n",
      "Reduced number of features: 1\n"
     ]
    }
   ],
   "source": [
    "iris = datasets.load_iris()\n",
    "features = iris.data\n",
    "target = iris.target\n",
    "\n",
    "lda = LinearDiscriminantAnalysis(n_components=1)\n",
    "features_lda = lda.fit(features ,target).transform(features)\n",
    "print(\"Original number of features:\",features.shape[1])\n",
    "print(\"Reduced number of features:\",features_lda.shape[1])"
   ]
  },
  {
   "cell_type": "code",
   "execution_count": 5,
   "id": "e1e7b74b",
   "metadata": {},
   "outputs": [
    {
     "data": {
      "text/plain": [
       "array([0.9912126])"
      ]
     },
     "execution_count": 5,
     "metadata": {},
     "output_type": "execute_result"
    }
   ],
   "source": [
    "lda.explained_variance_ratio_"
   ]
  },
  {
   "cell_type": "markdown",
   "id": "58d22939",
   "metadata": {},
   "source": [
    "Discussion"
   ]
  },
  {
   "cell_type": "code",
   "execution_count": 6,
   "id": "119f3b09",
   "metadata": {},
   "outputs": [
    {
     "data": {
      "text/plain": [
       "1"
      ]
     },
     "execution_count": 6,
     "metadata": {},
     "output_type": "execute_result"
    }
   ],
   "source": [
    "lda = LinearDiscriminantAnalysis(n_components=None)\n",
    "features_lda = lda.fit(features,target)\n",
    "lda_var_rations = lda.explained_variance_ratio_\n",
    "\n",
    "def select_n_components(var_ratio,goal_var:float) -> int:\n",
    "    total_variance = 0.0\n",
    "    n_components = 0\n",
    "    for explained_variance in var_ratio:\n",
    "        total_variance += explained_variance\n",
    "        n_components += 1\n",
    "\n",
    "        if total_variance >= goal_var :\n",
    "            break\n",
    "    return n_components\n",
    "\n",
    "select_n_components(lda_var_rations,0.95)"
   ]
  },
  {
   "cell_type": "markdown",
   "id": "228c5946",
   "metadata": {},
   "source": [
    "9.4 : Reducing Features Using Matrix Factorization"
   ]
  },
  {
   "cell_type": "code",
   "execution_count": 7,
   "id": "c7f99e51",
   "metadata": {},
   "outputs": [
    {
     "name": "stdout",
     "output_type": "stream",
     "text": [
      "Original number of features: 64\n",
      "Reduced number of features: 10\n"
     ]
    }
   ],
   "source": [
    "digits = datasets.load_digits()\n",
    "features = digits.data\n",
    "nmf = NMF(n_components=10,random_state=4)\n",
    "features_nmf = nmf.fit_transform(features)\n",
    "\n",
    "print(\"Original number of features:\",features.shape[1])\n",
    "print(\"Reduced number of features:\",features_nmf.shape[1])"
   ]
  },
  {
   "cell_type": "markdown",
   "id": "da234731",
   "metadata": {},
   "source": [
    "9.5 : Reducing Features on Sparse Data"
   ]
  },
  {
   "cell_type": "code",
   "execution_count": 8,
   "id": "3dcbb5bd",
   "metadata": {},
   "outputs": [
    {
     "name": "stdout",
     "output_type": "stream",
     "text": [
      "Original number of features: 64\n",
      "Reduced number of features: 10\n"
     ]
    }
   ],
   "source": [
    "digits = datasets.load_digits()\n",
    "features = StandardScaler().fit_transform(digits.data)\n",
    "features_sparse = csr_matrix(features)\n",
    "tsvd = TruncatedSVD(n_components=10)\n",
    "features_sparse_tsvd = tsvd.fit(features_sparse).transform(features_sparse)\n",
    "print(\"Original number of features:\",features.shape[1])\n",
    "print(\"Reduced number of features:\",features_sparse_tsvd.shape[1])"
   ]
  },
  {
   "cell_type": "markdown",
   "id": "27bb2480",
   "metadata": {},
   "source": [
    "Discussion"
   ]
  },
  {
   "cell_type": "code",
   "execution_count": 9,
   "id": "7d7b0e43",
   "metadata": {},
   "outputs": [
    {
     "data": {
      "text/plain": [
       "np.float64(0.30039385388038775)"
      ]
     },
     "execution_count": 9,
     "metadata": {},
     "output_type": "execute_result"
    }
   ],
   "source": [
    "tsvd.explained_variance_ratio_[0:3].sum()"
   ]
  },
  {
   "cell_type": "code",
   "execution_count": 10,
   "id": "01ae0de8",
   "metadata": {},
   "outputs": [
    {
     "data": {
      "text/plain": [
       "40"
      ]
     },
     "execution_count": 10,
     "metadata": {},
     "output_type": "execute_result"
    }
   ],
   "source": [
    "tsvd = TruncatedSVD(n_components=features_sparse.shape[1]-1)\n",
    "features_tsvd = tsvd.fit(features)\n",
    "tsvd_var_ratios = tsvd.explained_variance_ratio_\n",
    "\n",
    "def select_n_components(var_ratio,goal_var):\n",
    "    total_variance = 0.0\n",
    "    n_components = 0\n",
    "    for explained_variance in var_ratio :\n",
    "        total_variance += explained_variance\n",
    "        n_components+= 1 \n",
    "        if total_variance >= goal_var:\n",
    "            break\n",
    "\n",
    "    return n_components\n",
    "\n",
    "select_n_components(tsvd_var_ratios,0.95)\n"
   ]
  }
 ],
 "metadata": {
  "kernelspec": {
   "display_name": "datascience",
   "language": "python",
   "name": "python3"
  },
  "language_info": {
   "codemirror_mode": {
    "name": "ipython",
    "version": 3
   },
   "file_extension": ".py",
   "mimetype": "text/x-python",
   "name": "python",
   "nbconvert_exporter": "python",
   "pygments_lexer": "ipython3",
   "version": "3.13.2"
  }
 },
 "nbformat": 4,
 "nbformat_minor": 5
}
