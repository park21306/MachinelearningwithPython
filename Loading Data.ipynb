{
 "cells": [
  {
   "cell_type": "code",
   "execution_count": 1,
   "id": "040ca6db",
   "metadata": {},
   "outputs": [],
   "source": [
    "from sklearn import datasets\n",
    "from sklearn.datasets import make_classification,make_regression,make_blobs\n",
    "from sqlalchemy import create_engine\n",
    "import pandas as pd\n",
    "import numpy as np\n",
    "import matplotlib.pyplot as plt\n",
    "import requests\n",
    "import pymysql\n",
    "import pandavro as pdx"
   ]
  },
  {
   "cell_type": "markdown",
   "id": "b2687b70",
   "metadata": {},
   "source": [
    "2.1 : Loading a Sample Dataset"
   ]
  },
  {
   "cell_type": "code",
   "execution_count": null,
   "id": "41388565",
   "metadata": {},
   "outputs": [],
   "source": []
  },
  {
   "cell_type": "code",
   "execution_count": 2,
   "id": "8f2092c6",
   "metadata": {},
   "outputs": [
    {
     "data": {
      "text/plain": [
       "array([ 0.,  0.,  5., 13.,  9.,  1.,  0.,  0.,  0.,  0., 13., 15., 10.,\n",
       "       15.,  5.,  0.,  0.,  3., 15.,  2.,  0., 11.,  8.,  0.,  0.,  4.,\n",
       "       12.,  0.,  0.,  8.,  8.,  0.,  0.,  5.,  8.,  0.,  0.,  9.,  8.,\n",
       "        0.,  0.,  4., 11.,  0.,  1., 12.,  7.,  0.,  0.,  2., 14.,  5.,\n",
       "       10., 12.,  0.,  0.,  0.,  0.,  6., 13., 10.,  0.,  0.,  0.])"
      ]
     },
     "execution_count": 2,
     "metadata": {},
     "output_type": "execute_result"
    }
   ],
   "source": [
    "digits = datasets.load_digits()\n",
    "features = digits.data\n",
    "target = digits.target\n",
    "features[0]"
   ]
  },
  {
   "cell_type": "markdown",
   "id": "b05e5fe0",
   "metadata": {},
   "source": [
    "Discussion"
   ]
  },
  {
   "cell_type": "code",
   "execution_count": 3,
   "id": "3e7d0942",
   "metadata": {},
   "outputs": [
    {
     "name": "stdout",
     "output_type": "stream",
     "text": [
      ".. _digits_dataset:\n",
      "\n",
      "Optical recognition of handwritten digits dataset\n",
      "--------------------------------------------------\n",
      "\n",
      "**Data Set Characteristics:**\n",
      "\n",
      ":Number of Instances: 1797\n",
      ":Number of Attributes: 64\n",
      ":Attribute Information: 8x8 image of integer pixels in the range 0..16.\n",
      ":Missing Attribute Values: None\n",
      ":Creator: E. Alpaydin (alpaydin '@' boun.edu.tr)\n",
      ":Date: July; 1998\n",
      "\n",
      "This is a copy of the test set of the UCI ML hand-written digits datasets\n",
      "https://archive.ics.uci.edu/ml/datasets/Optical+Recognition+of+Handwritten+Digits\n",
      "\n",
      "The data set contains images of hand-written digits: 10 classes where\n",
      "each class refers to a digit.\n",
      "\n",
      "Preprocessing programs made available by NIST were used to extract\n",
      "normalized bitmaps of handwritten digits from a preprinted form. From a\n",
      "total of 43 people, 30 contributed to the training set and different 13\n",
      "to the test set. 32x32 bitmaps are divided into nonoverlapping blocks of\n",
      "4x4 and the number of on pixels are counted in each block. This generates\n",
      "an input matrix of 8x8 where each element is an integer in the range\n",
      "0..16. This reduces dimensionality and gives invariance to small\n",
      "distortions.\n",
      "\n",
      "For info on NIST preprocessing routines, see M. D. Garris, J. L. Blue, G.\n",
      "T. Candela, D. L. Dimmick, J. Geist, P. J. Grother, S. A. Janet, and C.\n",
      "L. Wilson, NIST Form-Based Handprint Recognition System, NISTIR 5469,\n",
      "1994.\n",
      "\n",
      ".. dropdown:: References\n",
      "\n",
      "  - C. Kaynak (1995) Methods of Combining Multiple Classifiers and Their\n",
      "    Applications to Handwritten Digit Recognition, MSc Thesis, Institute of\n",
      "    Graduate Studies in Science and Engineering, Bogazici University.\n",
      "  - E. Alpaydin, C. Kaynak (1998) Cascading Classifiers, Kybernetika.\n",
      "  - Ken Tang and Ponnuthurai N. Suganthan and Xi Yao and A. Kai Qin.\n",
      "    Linear dimensionalityreduction using relevance weighted LDA. School of\n",
      "    Electrical and Electronic Engineering Nanyang Technological University.\n",
      "    2005.\n",
      "  - Claudio Gentile. A New Approximate Maximal Margin Classification\n",
      "    Algorithm. NIPS. 2000.\n",
      "\n"
     ]
    }
   ],
   "source": [
    "digits = datasets.load_digits()\n",
    "print(digits.DESCR)"
   ]
  },
  {
   "cell_type": "markdown",
   "id": "a50c9a47",
   "metadata": {},
   "source": [
    "2.2 : Creating a Simulated Dataset"
   ]
  },
  {
   "cell_type": "markdown",
   "id": "0198b381",
   "metadata": {},
   "source": [
    "Regession"
   ]
  },
  {
   "cell_type": "code",
   "execution_count": 4,
   "id": "86506aaf",
   "metadata": {},
   "outputs": [
    {
     "name": "stdout",
     "output_type": "stream",
     "text": [
      "Features: \n",
      " [[ 1.29322588 -0.61736206 -0.11044703]\n",
      " [-2.793085    0.36633201  1.93752881]\n",
      " [ 0.80186103 -0.18656977  0.0465673 ]]\n",
      "Target: \n",
      " [-10.37865986  25.5124503   19.67705609]\n"
     ]
    }
   ],
   "source": [
    "features,target,coefficients = make_regression(n_samples=100, \n",
    "                                                   n_features=3, \n",
    "                                                   n_informative=3, \n",
    "                                                   n_targets=1, \n",
    "                                                   noise=0.0,\n",
    "                                                   coef =True, \n",
    "                                                   random_state=1)\n",
    "print('Features: \\n', features[:3])\n",
    "print('Target: \\n', target[:3])"
   ]
  },
  {
   "cell_type": "markdown",
   "id": "a9eec0f8",
   "metadata": {},
   "source": [
    "Classification"
   ]
  },
  {
   "cell_type": "code",
   "execution_count": 5,
   "id": "220b7e0c",
   "metadata": {},
   "outputs": [
    {
     "name": "stdout",
     "output_type": "stream",
     "text": [
      "Features: \n",
      " [[ 1.06354768 -1.42632219  1.02163151]\n",
      " [ 0.23156977  1.49535261  0.33251578]\n",
      " [ 0.15972951  0.83533515 -0.40869554]]\n",
      "Target: \n",
      " [1 0 0]\n"
     ]
    }
   ],
   "source": [
    "features, target = make_classification(n_samples=100,\n",
    "                                       n_features=3, \n",
    "                                       n_informative=3, \n",
    "                                       n_redundant=0,\n",
    "                                       n_classes=2,\n",
    "                                       weights=[.25,.75], \n",
    "                                       random_state=1)\n",
    "print('Features: \\n', features[:3])\n",
    "print('Target: \\n', target[:3])"
   ]
  },
  {
   "cell_type": "markdown",
   "id": "601bf4d6",
   "metadata": {},
   "source": [
    "Blobs"
   ]
  },
  {
   "cell_type": "code",
   "execution_count": 6,
   "id": "499960b6",
   "metadata": {},
   "outputs": [
    {
     "name": "stdout",
     "output_type": "stream",
     "text": [
      "Features: \n",
      " [[ -1.22685609   3.25572052]\n",
      " [ -9.57463218  -4.38310652]\n",
      " [-10.71976941  -4.20558148]]\n",
      "Target: \n",
      " [0 1 1]\n"
     ]
    }
   ],
   "source": [
    "features,target = make_blobs(n_samples=100,\n",
    "                             n_features=2,\n",
    "                             centers=3,\n",
    "                             cluster_std=0.5,\n",
    "                             shuffle=True,\n",
    "                             random_state=1)\n",
    "print('Features: \\n', features[:3])\n",
    "print('Target: \\n', target[:3])"
   ]
  },
  {
   "cell_type": "markdown",
   "id": "2c3967d8",
   "metadata": {},
   "source": [
    "Discussion"
   ]
  },
  {
   "cell_type": "code",
   "execution_count": 7,
   "id": "67d5cd62",
   "metadata": {},
   "outputs": [
    {
     "data": {
      "image/png": "[encoded data removed]",
      "text/plain": [
       "<Figure size 640x480 with 1 Axes>"
      ]
     },
     "metadata": {},
     "output_type": "display_data"
    }
   ],
   "source": [
    "plt.scatter(features[:,0],features[:,1],c=target)\n",
    "plt.show()"
   ]
  },
  {
   "cell_type": "markdown",
   "id": "2355b974",
   "metadata": {},
   "source": [
    "2.3 : Loading a CSV File"
   ]
  },
  {
   "cell_type": "code",
   "execution_count": 8,
   "id": "3d0781ab",
   "metadata": {},
   "outputs": [
    {
     "data": {
      "application/vnd.microsoft.datawrangler.viewer.v0+json": {
       "columns": [
        {
         "name": "index",
         "rawType": "int64",
         "type": "integer"
        },
        {
         "name": "integer",
         "rawType": "int64",
         "type": "integer"
        },
        {
         "name": "datetime",
         "rawType": "object",
         "type": "string"
        },
        {
         "name": "category",
         "rawType": "int64",
         "type": "integer"
        }
       ],
       "ref": "47999a29-074e-4f51-a198-46fd3959bdab",
       "rows": [
        [
         "0",
         "5",
         "2015-01-01 00:00:00",
         "0"
        ],
        [
         "1",
         "5",
         "2015-01-01 00:00:01",
         "0"
        ]
       ],
       "shape": {
        "columns": 3,
        "rows": 2
       }
      },
      "text/html": [
       "<div>\n",
       "<style scoped>\n",
       "    .dataframe tbody tr th:only-of-type {\n",
       "        vertical-align: middle;\n",
       "    }\n",
       "\n",
       "    .dataframe tbody tr th {\n",
       "        vertical-align: top;\n",
       "    }\n",
       "\n",
       "    .dataframe thead th {\n",
       "        text-align: right;\n",
       "    }\n",
       "</style>\n",
       "<table border=\"1\" class=\"dataframe\">\n",
       "  <thead>\n",
       "    <tr style=\"text-align: right;\">\n",
       "      <th></th>\n",
       "      <th>integer</th>\n",
       "      <th>datetime</th>\n",
       "      <th>category</th>\n",
       "    </tr>\n",
       "  </thead>\n",
       "  <tbody>\n",
       "    <tr>\n",
       "      <th>0</th>\n",
       "      <td>5</td>\n",
       "      <td>2015-01-01 00:00:00</td>\n",
       "      <td>0</td>\n",
       "    </tr>\n",
       "    <tr>\n",
       "      <th>1</th>\n",
       "      <td>5</td>\n",
       "      <td>2015-01-01 00:00:01</td>\n",
       "      <td>0</td>\n",
       "    </tr>\n",
       "  </tbody>\n",
       "</table>\n",
       "</div>"
      ],
      "text/plain": [
       "   integer             datetime  category\n",
       "0        5  2015-01-01 00:00:00         0\n",
       "1        5  2015-01-01 00:00:01         0"
      ]
     },
     "execution_count": 8,
     "metadata": {},
     "output_type": "execute_result"
    }
   ],
   "source": [
    "url = 'https://raw.githubusercontent.com/chrisalbon/sim_data/master/data.csv'\n",
    "dataframe = pd.read_csv(url)\n",
    "dataframe.head(2)"
   ]
  },
  {
   "cell_type": "markdown",
   "id": "04437cc2",
   "metadata": {},
   "source": [
    "2.4 : Loading an Excel File"
   ]
  },
  {
   "cell_type": "code",
   "execution_count": 9,
   "id": "03c609ce",
   "metadata": {},
   "outputs": [
    {
     "data": {
      "application/vnd.microsoft.datawrangler.viewer.v0+json": {
       "columns": [
        {
         "name": "index",
         "rawType": "int64",
         "type": "integer"
        },
        {
         "name": "integer",
         "rawType": "int64",
         "type": "integer"
        },
        {
         "name": "datetime",
         "rawType": "datetime64[ns]",
         "type": "datetime"
        },
        {
         "name": "category",
         "rawType": "int64",
         "type": "integer"
        }
       ],
       "ref": "900e6a74-cd26-433a-995c-3077dd17b5e1",
       "rows": [
        [
         "0",
         "5",
         "2015-01-01 00:00:00",
         "0"
        ],
        [
         "1",
         "5",
         "2015-01-01 00:00:01",
         "0"
        ]
       ],
       "shape": {
        "columns": 3,
        "rows": 2
       }
      },
      "text/html": [
       "<div>\n",
       "<style scoped>\n",
       "    .dataframe tbody tr th:only-of-type {\n",
       "        vertical-align: middle;\n",
       "    }\n",
       "\n",
       "    .dataframe tbody tr th {\n",
       "        vertical-align: top;\n",
       "    }\n",
       "\n",
       "    .dataframe thead th {\n",
       "        text-align: right;\n",
       "    }\n",
       "</style>\n",
       "<table border=\"1\" class=\"dataframe\">\n",
       "  <thead>\n",
       "    <tr style=\"text-align: right;\">\n",
       "      <th></th>\n",
       "      <th>integer</th>\n",
       "      <th>datetime</th>\n",
       "      <th>category</th>\n",
       "    </tr>\n",
       "  </thead>\n",
       "  <tbody>\n",
       "    <tr>\n",
       "      <th>0</th>\n",
       "      <td>5</td>\n",
       "      <td>2015-01-01 00:00:00</td>\n",
       "      <td>0</td>\n",
       "    </tr>\n",
       "    <tr>\n",
       "      <th>1</th>\n",
       "      <td>5</td>\n",
       "      <td>2015-01-01 00:00:01</td>\n",
       "      <td>0</td>\n",
       "    </tr>\n",
       "  </tbody>\n",
       "</table>\n",
       "</div>"
      ],
      "text/plain": [
       "   integer            datetime  category\n",
       "0        5 2015-01-01 00:00:00         0\n",
       "1        5 2015-01-01 00:00:01         0"
      ]
     },
     "execution_count": 9,
     "metadata": {},
     "output_type": "execute_result"
    }
   ],
   "source": [
    "url = 'https://raw.githubusercontent.com/chrisalbon/sim_data/master/data.xlsx'\n",
    "dataframe = pd.read_excel(url, sheet_name=0,header=0)\n",
    "dataframe.head(2)"
   ]
  },
  {
   "cell_type": "markdown",
   "id": "c0e4b679",
   "metadata": {},
   "source": [
    "2.5 : Loading a JSON File"
   ]
  },
  {
   "cell_type": "code",
   "execution_count": 10,
   "id": "57d0c608",
   "metadata": {},
   "outputs": [
    {
     "data": {
      "application/vnd.microsoft.datawrangler.viewer.v0+json": {
       "columns": [
        {
         "name": "index",
         "rawType": "int64",
         "type": "integer"
        },
        {
         "name": "integer",
         "rawType": "int64",
         "type": "integer"
        },
        {
         "name": "datetime",
         "rawType": "datetime64[ns]",
         "type": "datetime"
        },
        {
         "name": "category",
         "rawType": "int64",
         "type": "integer"
        }
       ],
       "ref": "fffca835-d89a-4321-bcfe-c84d7ded302a",
       "rows": [
        [
         "0",
         "5",
         "2015-01-01 00:00:00",
         "0"
        ],
        [
         "1",
         "5",
         "2015-01-01 00:00:01",
         "0"
        ]
       ],
       "shape": {
        "columns": 3,
        "rows": 2
       }
      },
      "text/html": [
       "<div>\n",
       "<style scoped>\n",
       "    .dataframe tbody tr th:only-of-type {\n",
       "        vertical-align: middle;\n",
       "    }\n",
       "\n",
       "    .dataframe tbody tr th {\n",
       "        vertical-align: top;\n",
       "    }\n",
       "\n",
       "    .dataframe thead th {\n",
       "        text-align: right;\n",
       "    }\n",
       "</style>\n",
       "<table border=\"1\" class=\"dataframe\">\n",
       "  <thead>\n",
       "    <tr style=\"text-align: right;\">\n",
       "      <th></th>\n",
       "      <th>integer</th>\n",
       "      <th>datetime</th>\n",
       "      <th>category</th>\n",
       "    </tr>\n",
       "  </thead>\n",
       "  <tbody>\n",
       "    <tr>\n",
       "      <th>0</th>\n",
       "      <td>5</td>\n",
       "      <td>2015-01-01 00:00:00</td>\n",
       "      <td>0</td>\n",
       "    </tr>\n",
       "    <tr>\n",
       "      <th>1</th>\n",
       "      <td>5</td>\n",
       "      <td>2015-01-01 00:00:01</td>\n",
       "      <td>0</td>\n",
       "    </tr>\n",
       "  </tbody>\n",
       "</table>\n",
       "</div>"
      ],
      "text/plain": [
       "   integer            datetime  category\n",
       "0        5 2015-01-01 00:00:00         0\n",
       "1        5 2015-01-01 00:00:01         0"
      ]
     },
     "execution_count": 10,
     "metadata": {},
     "output_type": "execute_result"
    }
   ],
   "source": [
    "url = 'https://raw.githubusercontent.com/chrisalbon/sim_data/master/data.json'\n",
    "dataframe = pd.read_json(url,orient='columns')\n",
    "dataframe.head(2)"
   ]
  },
  {
   "cell_type": "markdown",
   "id": "9a0a9ac5",
   "metadata": {},
   "source": [
    "2.6 : Loading a Parquet File"
   ]
  },
  {
   "cell_type": "code",
   "execution_count": 11,
   "id": "9fdb55ad",
   "metadata": {},
   "outputs": [
    {
     "data": {
      "application/vnd.microsoft.datawrangler.viewer.v0+json": {
       "columns": [
        {
         "name": "index",
         "rawType": "int64",
         "type": "integer"
        },
        {
         "name": "integer",
         "rawType": "int64",
         "type": "integer"
        },
        {
         "name": "datetime",
         "rawType": "object",
         "type": "string"
        },
        {
         "name": "category",
         "rawType": "int64",
         "type": "integer"
        }
       ],
       "ref": "1068e164-9a91-48d8-aab0-c31980e0b740",
       "rows": [
        [
         "0",
         "5",
         "2015-01-01 00:00:00",
         "0"
        ],
        [
         "1",
         "5",
         "2015-01-01 00:00:01",
         "0"
        ]
       ],
       "shape": {
        "columns": 3,
        "rows": 2
       }
      },
      "text/html": [
       "<div>\n",
       "<style scoped>\n",
       "    .dataframe tbody tr th:only-of-type {\n",
       "        vertical-align: middle;\n",
       "    }\n",
       "\n",
       "    .dataframe tbody tr th {\n",
       "        vertical-align: top;\n",
       "    }\n",
       "\n",
       "    .dataframe thead th {\n",
       "        text-align: right;\n",
       "    }\n",
       "</style>\n",
       "<table border=\"1\" class=\"dataframe\">\n",
       "  <thead>\n",
       "    <tr style=\"text-align: right;\">\n",
       "      <th></th>\n",
       "      <th>integer</th>\n",
       "      <th>datetime</th>\n",
       "      <th>category</th>\n",
       "    </tr>\n",
       "  </thead>\n",
       "  <tbody>\n",
       "    <tr>\n",
       "      <th>0</th>\n",
       "      <td>5</td>\n",
       "      <td>2015-01-01 00:00:00</td>\n",
       "      <td>0</td>\n",
       "    </tr>\n",
       "    <tr>\n",
       "      <th>1</th>\n",
       "      <td>5</td>\n",
       "      <td>2015-01-01 00:00:01</td>\n",
       "      <td>0</td>\n",
       "    </tr>\n",
       "  </tbody>\n",
       "</table>\n",
       "</div>"
      ],
      "text/plain": [
       "   integer             datetime  category\n",
       "0        5  2015-01-01 00:00:00         0\n",
       "1        5  2015-01-01 00:00:01         0"
      ]
     },
     "execution_count": 11,
     "metadata": {},
     "output_type": "execute_result"
    }
   ],
   "source": [
    "url = 'https://machine-learning-python-cookbook.s3.amazonaws.com/data.parquet'\n",
    "dataframe = pd.read_parquet(url)\n",
    "dataframe.head(2)"
   ]
  },
  {
   "cell_type": "markdown",
   "id": "0c5c2354",
   "metadata": {},
   "source": [
    "2.7 : Loading an Avor File"
   ]
  },
  {
   "cell_type": "code",
   "execution_count": 12,
   "id": "a3c52ea8",
   "metadata": {},
   "outputs": [
    {
     "data": {
      "application/vnd.microsoft.datawrangler.viewer.v0+json": {
       "columns": [
        {
         "name": "index",
         "rawType": "int64",
         "type": "integer"
        },
        {
         "name": "integer",
         "rawType": "int64",
         "type": "integer"
        },
        {
         "name": "datetime",
         "rawType": "object",
         "type": "string"
        },
        {
         "name": "category",
         "rawType": "int64",
         "type": "integer"
        }
       ],
       "ref": "456dc5fe-6c41-414e-8de9-0f52b59ddfae",
       "rows": [
        [
         "0",
         "5",
         "2015-01-01 00:00:00",
         "0"
        ],
        [
         "1",
         "5",
         "2015-01-01 00:00:01",
         "0"
        ]
       ],
       "shape": {
        "columns": 3,
        "rows": 2
       }
      },
      "text/html": [
       "<div>\n",
       "<style scoped>\n",
       "    .dataframe tbody tr th:only-of-type {\n",
       "        vertical-align: middle;\n",
       "    }\n",
       "\n",
       "    .dataframe tbody tr th {\n",
       "        vertical-align: top;\n",
       "    }\n",
       "\n",
       "    .dataframe thead th {\n",
       "        text-align: right;\n",
       "    }\n",
       "</style>\n",
       "<table border=\"1\" class=\"dataframe\">\n",
       "  <thead>\n",
       "    <tr style=\"text-align: right;\">\n",
       "      <th></th>\n",
       "      <th>integer</th>\n",
       "      <th>datetime</th>\n",
       "      <th>category</th>\n",
       "    </tr>\n",
       "  </thead>\n",
       "  <tbody>\n",
       "    <tr>\n",
       "      <th>0</th>\n",
       "      <td>5</td>\n",
       "      <td>2015-01-01 00:00:00</td>\n",
       "      <td>0</td>\n",
       "    </tr>\n",
       "    <tr>\n",
       "      <th>1</th>\n",
       "      <td>5</td>\n",
       "      <td>2015-01-01 00:00:01</td>\n",
       "      <td>0</td>\n",
       "    </tr>\n",
       "  </tbody>\n",
       "</table>\n",
       "</div>"
      ],
      "text/plain": [
       "   integer             datetime  category\n",
       "0        5  2015-01-01 00:00:00         0\n",
       "1        5  2015-01-01 00:00:01         0"
      ]
     },
     "execution_count": 12,
     "metadata": {},
     "output_type": "execute_result"
    }
   ],
   "source": [
    "url = 'https://machine-learning-python-cookbook.s3.amazonaws.com/data.avro'\n",
    "r = requests.get(url)\n",
    "open('data.avro', 'wb').write(r.content)\n",
    "dataframe = pdx.read_avro('data.avro')\n",
    "dataframe.head(2)"
   ]
  },
  {
   "cell_type": "markdown",
   "id": "b3a43201",
   "metadata": {},
   "source": [
    "2.8 : Querying a SQLite Database"
   ]
  },
  {
   "cell_type": "code",
   "execution_count": 13,
   "id": "1ef8b34f",
   "metadata": {},
   "outputs": [],
   "source": [
    "# database_connection = create_engine('sqlite:///sample.db')\n",
    "# dataframe = pd.read_sql_query('SELECT * FROM data', database_connection)\n",
    "# dataframe.head(2)"
   ]
  },
  {
   "cell_type": "markdown",
   "id": "45e9fe63",
   "metadata": {},
   "source": [
    "2.9 : Querying a Remote SQL Database"
   ]
  },
  {
   "cell_type": "code",
   "execution_count": 14,
   "id": "37ea7c75",
   "metadata": {},
   "outputs": [],
   "source": [
    "# conn = pymysql.connect(host='localhost', \n",
    "#                        user='root', \n",
    "#                        password='', \n",
    "#                        db='db')\n",
    "# dataframe = pd.read_sql('SELECT * FROM data', conn)\n",
    "# dataframe.head(2)"
   ]
  },
  {
   "cell_type": "markdown",
   "id": "64b45da0",
   "metadata": {},
   "source": [
    "2.10 : Loading Data from a Google Sheet"
   ]
  },
  {
   "cell_type": "code",
   "execution_count": 15,
   "metadata": {},
   "outputs": [
    {
     "data": {
      "application/vnd.microsoft.datawrangler.viewer.v0+json": {
       "columns": [
        {
         "name": "index",
         "rawType": "int64",
         "type": "integer"
        },
        {
         "name": "integer",
         "rawType": "int64",
         "type": "integer"
        },
        {
         "name": "datetime",
         "rawType": "object",
         "type": "string"
        },
        {
         "name": "category",
         "rawType": "int64",
         "type": "integer"
        }
       ],
       "ref": "eabf0b36-cb65-48f1-9787-092f6d8c640e",
       "rows": [
        [
         "0",
         "5",
         "2015-01-01 0:00:00",
         "0"
        ],
        [
         "1",
         "5",
         "2015-01-01 0:00:01",
         "0"
        ]
       ],
       "shape": {
        "columns": 3,
        "rows": 2
       }
      },
      "text/html": [
       "<div>\n",
       "<style scoped>\n",
       "    .dataframe tbody tr th:only-of-type {\n",
       "        vertical-align: middle;\n",
       "    }\n",
       "\n",
       "    .dataframe tbody tr th {\n",
       "        vertical-align: top;\n",
       "    }\n",
       "\n",
       "    .dataframe thead th {\n",
       "        text-align: right;\n",
       "    }\n",
       "</style>\n",
       "<table border=\"1\" class=\"dataframe\">\n",
       "  <thead>\n",
       "    <tr style=\"text-align: right;\">\n",
       "      <th></th>\n",
       "      <th>integer</th>\n",
       "      <th>datetime</th>\n",
       "      <th>category</th>\n",
       "    </tr>\n",
       "  </thead>\n",
       "  <tbody>\n",
       "    <tr>\n",
       "      <th>0</th>\n",
       "      <td>5</td>\n",
       "      <td>2015-01-01 0:00:00</td>\n",
       "      <td>0</td>\n",
       "    </tr>\n",
       "    <tr>\n",
       "      <th>1</th>\n",
       "      <td>5</td>\n",
       "      <td>2015-01-01 0:00:01</td>\n",
       "      <td>0</td>\n",
       "    </tr>\n",
       "  </tbody>\n",
       "</table>\n",
       "</div>"
      ],
      "text/plain": [
       "   integer            datetime  category\n",
       "0        5  2015-01-01 0:00:00         0\n",
       "1        5  2015-01-01 0:00:01         0"
      ]
     },
     "execution_count": 15,
     "metadata": {},
     "output_type": "execute_result"
    }
   ],
   "source": [
    "url = \"https://docs.google.com/spreadsheets/d/1ehC-9otcAuitqnmWksqt1mOrTRCL38dv0K9UjhwzTOA/export?format=csv\"\n",
    "dataframe = pd.read_csv(url)\n",
    "dataframe.head(2)"
   ]
  },
  {
   "cell_type": "markdown",
   "id": "4e8ec8b3",
   "metadata": {},
   "source": [
    "2.11 : Loading Data from an S3 Bucket"
   ]
  },
  {
   "cell_type": "code",
   "execution_count": 16,
   "id": "ee28fbf1",
   "metadata": {},
   "outputs": [],
   "source": [
    "# s3_url = \"s3://machine-learning-python-cookbook/data.csv\"\n",
    "# ACCESS_KEY = 'YOUR_ACCESS_KEY'\n",
    "# SECRET_KEY = 'YOUR_SECRET_KEY'\n",
    "# dataframe = pd.read_csv(s3_url, storage_options={\n",
    "#     \"key\": ACCESS_KEY, \n",
    "#     \"secret\": SECRET_KEY})\n",
    "# dataframe.head(2)"
   ]
  },
  {
   "cell_type": "markdown",
   "id": "43396950",
   "metadata": {},
   "source": [
    "2.12 : Loading Unstructured Data"
   ]
  },
  {
   "cell_type": "code",
   "execution_count": 17,
   "id": "7d94ab89",
   "metadata": {},
   "outputs": [
    {
     "name": "stdout",
     "output_type": "stream",
     "text": [
      "Hello there!\n"
     ]
    }
   ],
   "source": [
    "txt_url = \"https://machine-learning-python-cookbook.s3.amazonaws.com/text.txt\"\n",
    "r = requests.get(txt_url)\n",
    "with open('text.txt', 'wb') as f:\n",
    "    f.write(r.content)\n",
    "with open('text.txt', 'r') as f:\n",
    "    text = f.read()\n",
    "print(text)"
   ]
  }
 ],
 "metadata": {
  "kernelspec": {
   "display_name": "datascience",
   "language": "python",
   "name": "python3"
  },
  "language_info": {
   "codemirror_mode": {
    "name": "ipython",
    "version": 3
   },
   "file_extension": ".py",
   "mimetype": "text/x-python",
   "name": "python",
   "nbconvert_exporter": "python",
   "pygments_lexer": "ipython3",
   "version": "3.13.2"
  }
 },
 "nbformat": 4,
 "nbformat_minor": 5
}
