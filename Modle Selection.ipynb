{
 "cells": [
  {
   "cell_type": "code",
   "execution_count": 1,
   "id": "cb7f8b6a",
   "metadata": {},
   "outputs": [],
   "source": [
    "import numpy as np\n",
    "import pandas as pd\n",
    "\n",
    "from scipy.stats import uniform\n",
    "from sklearn.linear_model import LogisticRegressionCV,LogisticRegression\n",
    "from sklearn.datasets import load_iris\n",
    "from sklearn.model_selection import GridSearchCV,cross_val_score,RandomizedSearchCV\n",
    "from sklearn.pipeline import Pipeline,FeatureUnion\n",
    "from sklearn.decomposition import PCA\n",
    "from sklearn.preprocessing import StandardScaler\n",
    "from sklearn.ensemble import RandomForestClassifier\n"
   ]
  },
  {
   "cell_type": "code",
   "execution_count": 2,
   "id": "12e0b4a2",
   "metadata": {},
   "outputs": [],
   "source": [
    "import warnings\n",
    "warnings.filterwarnings(\"ignore\", category=FutureWarning)"
   ]
  },
  {
   "cell_type": "markdown",
   "id": "e610965f",
   "metadata": {},
   "source": [
    "12.1 : Selecting the Best Models Using Exhaustive Search"
   ]
  },
  {
   "cell_type": "code",
   "execution_count": 3,
   "id": "7fee93c9",
   "metadata": {},
   "outputs": [
    {
     "name": "stdout",
     "output_type": "stream",
     "text": [
      "LogisticRegression(C=np.float64(7.742636826811269), max_iter=500, penalty='l1',\n",
      "                   solver='liblinear')\n"
     ]
    }
   ],
   "source": [
    "iris = load_iris()\n",
    "features = iris.data\n",
    "target = iris.target\n",
    "\n",
    "logistic = LogisticRegression(max_iter=500,solver='liblinear')\n",
    "\n",
    "penalty = ['l1','l2']\n",
    "\n",
    "C = np.logspace(0,4,10)\n",
    "\n",
    "hyperparametes = dict(C=C,penalty=penalty)\n",
    "\n",
    "gridsearch = GridSearchCV(logistic,hyperparametes,cv=5,verbose=0)\n",
    "\n",
    "best_model = gridsearch.fit(features,target)\n",
    "print(best_model.best_estimator_)"
   ]
  },
  {
   "cell_type": "markdown",
   "id": "d1382e69",
   "metadata": {},
   "source": [
    "Discussion"
   ]
  },
  {
   "cell_type": "code",
   "execution_count": 4,
   "id": "7ee71e81",
   "metadata": {},
   "outputs": [
    {
     "data": {
      "text/plain": [
       "array([1.00000000e+00, 2.78255940e+00, 7.74263683e+00, 2.15443469e+01,\n",
       "       5.99484250e+01, 1.66810054e+02, 4.64158883e+02, 1.29154967e+03,\n",
       "       3.59381366e+03, 1.00000000e+04])"
      ]
     },
     "execution_count": 4,
     "metadata": {},
     "output_type": "execute_result"
    }
   ],
   "source": [
    "np.logspace(0,4,10)"
   ]
  },
  {
   "cell_type": "code",
   "execution_count": 5,
   "id": "15ecc17d",
   "metadata": {},
   "outputs": [
    {
     "name": "stdout",
     "output_type": "stream",
     "text": [
      "Best Penalty: l1\n",
      "Best C: 7.742636826811269\n"
     ]
    }
   ],
   "source": [
    "print(\"Best Penalty:\",best_model.best_estimator_.get_params()['penalty'])\n",
    "print('Best C:' ,best_model.best_estimator_.get_params()['C'])"
   ]
  },
  {
   "cell_type": "code",
   "execution_count": 6,
   "id": "8b2aded4",
   "metadata": {},
   "outputs": [
    {
     "data": {
      "text/plain": [
       "array([0, 0, 0, 0, 0, 0, 0, 0, 0, 0, 0, 0, 0, 0, 0, 0, 0, 0, 0, 0, 0, 0,\n",
       "       0, 0, 0, 0, 0, 0, 0, 0, 0, 0, 0, 0, 0, 0, 0, 0, 0, 0, 0, 0, 0, 0,\n",
       "       0, 0, 0, 0, 0, 0, 1, 1, 1, 1, 1, 1, 1, 1, 1, 1, 1, 1, 1, 1, 1, 1,\n",
       "       1, 1, 1, 1, 2, 1, 1, 1, 1, 1, 1, 1, 1, 1, 1, 1, 1, 2, 1, 1, 1, 1,\n",
       "       1, 1, 1, 1, 1, 1, 1, 1, 1, 1, 1, 1, 2, 2, 2, 2, 2, 2, 2, 2, 2, 2,\n",
       "       2, 2, 2, 2, 2, 2, 2, 2, 2, 2, 2, 2, 2, 2, 2, 2, 2, 2, 2, 2, 2, 2,\n",
       "       2, 1, 2, 2, 2, 2, 2, 2, 2, 2, 2, 2, 2, 2, 2, 2, 2, 2])"
      ]
     },
     "execution_count": 6,
     "metadata": {},
     "output_type": "execute_result"
    }
   ],
   "source": [
    "best_model.predict(features)"
   ]
  },
  {
   "cell_type": "markdown",
   "id": "f0680acf",
   "metadata": {},
   "source": [
    "12.2 : Selecting the Best Models Using Randomized Search"
   ]
  },
  {
   "cell_type": "code",
   "execution_count": 7,
   "id": "971936d8",
   "metadata": {},
   "outputs": [
    {
     "name": "stdout",
     "output_type": "stream",
     "text": [
      "LogisticRegression(C=np.float64(1.668088018810296), max_iter=500, penalty='l1',\n",
      "                   solver='liblinear')\n"
     ]
    }
   ],
   "source": [
    "iris = load_iris()\n",
    "features = iris.data\n",
    "target = iris.target\n",
    "\n",
    "logistic = LogisticRegression(max_iter=500,solver='liblinear')\n",
    "penalty=['l1','l2']\n",
    "C = uniform(loc=0,scale=4)\n",
    "hyperparameters = dict(C=C,penalty=penalty)\n",
    "randomizedsearch = RandomizedSearchCV(logistic,\n",
    "                                      hyperparameters,\n",
    "                                      random_state=1,\n",
    "                                      n_iter=100,\n",
    "                                      cv=5,\n",
    "                                      verbose=0,\n",
    "                                      n_jobs=-1)\n",
    "\n",
    "best_model = randomizedsearch.fit(features,target)\n",
    "print(best_model.best_estimator_)"
   ]
  },
  {
   "cell_type": "markdown",
   "id": "b85c1ab5",
   "metadata": {},
   "source": [
    "Discussion"
   ]
  },
  {
   "cell_type": "code",
   "execution_count": 8,
   "id": "65f9245c",
   "metadata": {},
   "outputs": [
    {
     "data": {
      "text/plain": [
       "array([1.17778676, 2.6003579 , 1.82747617, 3.07350887, 1.04304574,\n",
       "       3.14826742, 3.00778544, 3.21427802, 1.30794044, 3.6879455 ])"
      ]
     },
     "execution_count": 8,
     "metadata": {},
     "output_type": "execute_result"
    }
   ],
   "source": [
    "uniform(loc=0,scale=4).rvs(10)"
   ]
  },
  {
   "cell_type": "code",
   "execution_count": 9,
   "id": "f1edaf50",
   "metadata": {},
   "outputs": [
    {
     "name": "stdout",
     "output_type": "stream",
     "text": [
      "Best Penalty: l1\n",
      "Best C: 1.668088018810296\n"
     ]
    }
   ],
   "source": [
    "print(\"Best Penalty:\",best_model.best_estimator_.get_params()['penalty'])\n",
    "print('Best C:' ,best_model.best_estimator_.get_params()['C'])"
   ]
  },
  {
   "cell_type": "code",
   "execution_count": 10,
   "id": "0e9aa068",
   "metadata": {},
   "outputs": [
    {
     "data": {
      "text/plain": [
       "array([0, 0, 0, 0, 0, 0, 0, 0, 0, 0, 0, 0, 0, 0, 0, 0, 0, 0, 0, 0, 0, 0,\n",
       "       0, 0, 0, 0, 0, 0, 0, 0, 0, 0, 0, 0, 0, 0, 0, 0, 0, 0, 0, 0, 0, 0,\n",
       "       0, 0, 0, 0, 0, 0, 1, 1, 1, 1, 1, 1, 1, 1, 1, 1, 1, 1, 1, 1, 1, 1,\n",
       "       1, 1, 1, 1, 2, 1, 1, 1, 1, 1, 1, 1, 1, 1, 1, 1, 1, 2, 2, 1, 1, 1,\n",
       "       1, 1, 1, 1, 1, 1, 1, 1, 1, 1, 1, 1, 2, 2, 2, 2, 2, 2, 2, 2, 2, 2,\n",
       "       2, 2, 2, 2, 2, 2, 2, 2, 2, 2, 2, 2, 2, 2, 2, 2, 2, 2, 2, 1, 2, 2,\n",
       "       2, 1, 2, 2, 2, 2, 2, 2, 2, 2, 2, 2, 2, 2, 2, 2, 2, 2])"
      ]
     },
     "execution_count": 10,
     "metadata": {},
     "output_type": "execute_result"
    }
   ],
   "source": [
    "best_model.predict(features)"
   ]
  },
  {
   "cell_type": "markdown",
   "id": "a7c42986",
   "metadata": {},
   "source": [
    "12.3 : Selecting the Best Models from Multiple learning Algorithms"
   ]
  },
  {
   "cell_type": "code",
   "execution_count": 11,
   "id": "9370eded",
   "metadata": {},
   "outputs": [
    {
     "name": "stdout",
     "output_type": "stream",
     "text": [
      "Pipeline(steps=[('classifier',\n",
      "                 LogisticRegression(C=np.float64(7.742636826811269),\n",
      "                                    max_iter=500, penalty='l1',\n",
      "                                    solver='liblinear'))])\n"
     ]
    }
   ],
   "source": [
    "np.random.seed(0)\n",
    "\n",
    "iris = load_iris()\n",
    "features= iris.data\n",
    "target = iris.target\n",
    "\n",
    "pipe = Pipeline([('classifier',RandomForestClassifier())])\n",
    "search_space = [{'classifier':[LogisticRegression(max_iter=500,solver='liblinear')],\n",
    "                 \"classifier__penalty\":['l1','l2'],\n",
    "                 \"classifier__C\":np.logspace(0,4,10)},\n",
    "                 {'classifier':[RandomForestClassifier()],\n",
    "                  \"classifier__n_estimators\":[10,100,1000],\n",
    "                  \"classifier__max_features\":[1,2,3]}]\n",
    "\n",
    "gridsearch = GridSearchCV(pipe,search_space,cv=5,verbose=0)\n",
    "\n",
    "best_model = gridsearch.fit(features,target)\n",
    "\n",
    "print(best_model.best_estimator_)"
   ]
  },
  {
   "cell_type": "markdown",
   "id": "afa3d1f5",
   "metadata": {},
   "source": [
    "Discussion"
   ]
  },
  {
   "cell_type": "code",
   "execution_count": 12,
   "id": "7d198f54",
   "metadata": {},
   "outputs": [
    {
     "name": "stdout",
     "output_type": "stream",
     "text": [
      "LogisticRegression(C=np.float64(7.742636826811269), max_iter=500, penalty='l1',\n",
      "                   solver='liblinear')\n"
     ]
    }
   ],
   "source": [
    "print(best_model.best_estimator_.get_params()[\"classifier\"])"
   ]
  },
  {
   "cell_type": "code",
   "execution_count": 13,
   "id": "e5d1cf18",
   "metadata": {},
   "outputs": [
    {
     "data": {
      "text/plain": [
       "array([0, 0, 0, 0, 0, 0, 0, 0, 0, 0, 0, 0, 0, 0, 0, 0, 0, 0, 0, 0, 0, 0,\n",
       "       0, 0, 0, 0, 0, 0, 0, 0, 0, 0, 0, 0, 0, 0, 0, 0, 0, 0, 0, 0, 0, 0,\n",
       "       0, 0, 0, 0, 0, 0, 1, 1, 1, 1, 1, 1, 1, 1, 1, 1, 1, 1, 1, 1, 1, 1,\n",
       "       1, 1, 1, 1, 2, 1, 1, 1, 1, 1, 1, 1, 1, 1, 1, 1, 1, 2, 1, 1, 1, 1,\n",
       "       1, 1, 1, 1, 1, 1, 1, 1, 1, 1, 1, 1, 2, 2, 2, 2, 2, 2, 2, 2, 2, 2,\n",
       "       2, 2, 2, 2, 2, 2, 2, 2, 2, 2, 2, 2, 2, 2, 2, 2, 2, 2, 2, 2, 2, 2,\n",
       "       2, 1, 2, 2, 2, 2, 2, 2, 2, 2, 2, 2, 2, 2, 2, 2, 2, 2])"
      ]
     },
     "execution_count": 13,
     "metadata": {},
     "output_type": "execute_result"
    }
   ],
   "source": [
    "best_model.predict(features)"
   ]
  },
  {
   "cell_type": "markdown",
   "id": "e84868d5",
   "metadata": {},
   "source": [
    "12.4 : Selecting the Best Models When Preprocessing"
   ]
  },
  {
   "cell_type": "code",
   "execution_count": 14,
   "id": "6cbe7a05",
   "metadata": {},
   "outputs": [
    {
     "name": "stdout",
     "output_type": "stream",
     "text": [
      "Pipeline(steps=[('preprocess',\n",
      "                 FeatureUnion(transformer_list=[('std', StandardScaler()),\n",
      "                                                ('pca', PCA(n_components=1))])),\n",
      "                ('classifier',\n",
      "                 LogisticRegression(C=np.float64(7.742636826811269),\n",
      "                                    max_iter=1000, penalty='l1',\n",
      "                                    solver='liblinear'))])\n"
     ]
    }
   ],
   "source": [
    "np.random.seed(0)\n",
    "\n",
    "iris = load_iris()\n",
    "features = iris.data\n",
    "target = iris.target\n",
    "\n",
    "preprocess = FeatureUnion([(\"std\",StandardScaler()),(\"pca\",PCA())])\n",
    "\n",
    "pipe = Pipeline([(\"preprocess\",preprocess),\n",
    "                 (\"classifier\",LogisticRegression(max_iter=1000,solver = 'liblinear'))])\n",
    "\n",
    "search_space = [{\"preprocess__pca__n_components\" : [1,2,3],\n",
    "                 \"classifier__penalty\":[\"l1\",\"l2\"],\n",
    "                 \"classifier__C\":np.logspace(0,4,10)}]\n",
    "\n",
    "clf = GridSearchCV(pipe,search_space,cv=5,verbose=0,n_jobs=-1)\n",
    "\n",
    "best_model = clf.fit(features,target)\n",
    "print(best_model.best_estimator_)"
   ]
  },
  {
   "cell_type": "markdown",
   "id": "6b507d49",
   "metadata": {},
   "source": [
    "Discussion"
   ]
  },
  {
   "cell_type": "code",
   "execution_count": 15,
   "id": "1350821c",
   "metadata": {},
   "outputs": [
    {
     "data": {
      "text/plain": [
       "1"
      ]
     },
     "execution_count": 15,
     "metadata": {},
     "output_type": "execute_result"
    }
   ],
   "source": [
    "best_model.best_estimator_.get_params()['preprocess__pca__n_components']"
   ]
  },
  {
   "cell_type": "markdown",
   "id": "20fa41da",
   "metadata": {},
   "source": [
    "12.5 : Speeding Up Model Selection with Parallelization"
   ]
  },
  {
   "cell_type": "code",
   "execution_count": 16,
   "id": "e98d5e2c",
   "metadata": {},
   "outputs": [
    {
     "name": "stdout",
     "output_type": "stream",
     "text": [
      "Fitting 5 folds for each of 2000 candidates, totalling 10000 fits\n",
      "LogisticRegression(C=np.float64(5.926151812475554), max_iter=500, penalty='l1',\n",
      "                   solver='liblinear')\n"
     ]
    }
   ],
   "source": [
    "iris = load_iris()\n",
    "features ==iris.data\n",
    "target = iris.target\n",
    "\n",
    "logistic = LogisticRegression(max_iter=500,solver='liblinear')\n",
    "\n",
    "penalty=['l1','l2']\n",
    "C=np.logspace(0,4,1000)\n",
    "hyperparameters = dict(C=C,penalty=penalty)\n",
    "gridsearch = GridSearchCV(logistic,\n",
    "                          hyperparameters,\n",
    "                          cv=5,\n",
    "                          n_jobs=-1,\n",
    "                          verbose=1)\n",
    "best_model = gridsearch.fit(features,target)\n",
    "print(best_model.best_estimator_)"
   ]
  },
  {
   "cell_type": "markdown",
   "id": "aebb98f4",
   "metadata": {},
   "source": [
    "Discussion"
   ]
  },
  {
   "cell_type": "code",
   "execution_count": 17,
   "id": "99a7c0de",
   "metadata": {},
   "outputs": [
    {
     "name": "stdout",
     "output_type": "stream",
     "text": [
      "Fitting 5 folds for each of 2000 candidates, totalling 10000 fits\n",
      "LogisticRegression(C=np.float64(5.926151812475554), max_iter=500, penalty='l1',\n",
      "                   solver='liblinear')\n"
     ]
    }
   ],
   "source": [
    "clf = GridSearchCV(logistic,\n",
    "                   hyperparameters,\n",
    "                   cv=5,\n",
    "                   n_jobs=1,\n",
    "                   verbose=1)\n",
    "\n",
    "best_model=clf.fit(features,target)\n",
    "print(best_model.best_estimator_)"
   ]
  },
  {
   "cell_type": "markdown",
   "id": "4f04a642",
   "metadata": {},
   "source": [
    "12.6 : Speeding Up Model selction Using Algorithm Specfic Methods"
   ]
  },
  {
   "cell_type": "code",
   "execution_count": 18,
   "id": "46ad99b6",
   "metadata": {},
   "outputs": [
    {
     "name": "stdout",
     "output_type": "stream",
     "text": [
      "LogisticRegressionCV(Cs=100, max_iter=500, solver='liblinear')\n"
     ]
    }
   ],
   "source": [
    "iris = load_iris()\n",
    "features = iris.data\n",
    "target = iris.target\n",
    "\n",
    "logit = LogisticRegressionCV(Cs=100,max_iter=500,solver=\"liblinear\")\n",
    "\n",
    "logit.fit(features,target)\n",
    "print(logit)"
   ]
  },
  {
   "cell_type": "markdown",
   "id": "67142f3b",
   "metadata": {},
   "source": [
    "12.7 : Evaluating Performance After Model Selection"
   ]
  },
  {
   "cell_type": "code",
   "execution_count": 20,
   "id": "31333c28",
   "metadata": {},
   "outputs": [
    {
     "data": {
      "text/plain": [
       "np.float64(0.9733333333333334)"
      ]
     },
     "execution_count": 20,
     "metadata": {},
     "output_type": "execute_result"
    }
   ],
   "source": [
    "iris = load_iris()\n",
    "features = iris.data\n",
    "target = iris.target\n",
    "\n",
    "logistic = LogisticRegression(max_iter=500,solver='liblinear')\n",
    "\n",
    "C=np.logspace(0,4,20)\n",
    "hyperparameters = dict(C=C)\n",
    "gridsearch = GridSearchCV(logistic,hyperparameters,cv=5,n_jobs=-1,verbose=0)\n",
    "\n",
    "cross_val_score(gridsearch,features,target).mean()"
   ]
  },
  {
   "cell_type": "markdown",
   "id": "4b38da69",
   "metadata": {},
   "source": [
    "Discussion"
   ]
  },
  {
   "cell_type": "code",
   "execution_count": 21,
   "id": "028d43e7",
   "metadata": {},
   "outputs": [
    {
     "name": "stdout",
     "output_type": "stream",
     "text": [
      "Fitting 5 folds for each of 20 candidates, totalling 100 fits\n"
     ]
    }
   ],
   "source": [
    "gridsearch = GridSearchCV(logistic,hyperparameters,cv=5,verbose=1)\n",
    "best_model = gridsearch.fit(features,target)"
   ]
  },
  {
   "cell_type": "code",
   "execution_count": 22,
   "id": "f0b4d715",
   "metadata": {},
   "outputs": [
    {
     "name": "stdout",
     "output_type": "stream",
     "text": [
      "Fitting 5 folds for each of 20 candidates, totalling 100 fits\n",
      "Fitting 5 folds for each of 20 candidates, totalling 100 fits\n",
      "Fitting 5 folds for each of 20 candidates, totalling 100 fits\n",
      "Fitting 5 folds for each of 20 candidates, totalling 100 fits\n",
      "Fitting 5 folds for each of 20 candidates, totalling 100 fits\n"
     ]
    }
   ],
   "source": [
    "score = cross_val_score(gridsearch,features,target)"
   ]
  }
 ],
 "metadata": {
  "kernelspec": {
   "display_name": "datascience",
   "language": "python",
   "name": "python3"
  },
  "language_info": {
   "codemirror_mode": {
    "name": "ipython",
    "version": 3
   },
   "file_extension": ".py",
   "mimetype": "text/x-python",
   "name": "python",
   "nbconvert_exporter": "python",
   "pygments_lexer": "ipython3",
   "version": "3.13.2"
  }
 },
 "nbformat": 4,
 "nbformat_minor": 5
}
