{
 "cells": [
  {
   "cell_type": "code",
   "execution_count": 1,
   "metadata": {},
   "outputs": [],
   "source": [
    "import numpy as np\n",
    "from scipy import sparse"
   ]
  },
  {
   "cell_type": "markdown",
   "id": "8a7ea952",
   "metadata": {},
   "source": [
    "1.1 : Create a Vector"
   ]
  },
  {
   "cell_type": "code",
   "execution_count": 2,
   "id": "f2521080",
   "metadata": {},
   "outputs": [
    {
     "name": "stdout",
     "output_type": "stream",
     "text": [
      "Vector_Row : \n",
      "[1 2 3] \n",
      "Vector_Column : \n",
      "[[1]\n",
      " [2]\n",
      " [3]] \n"
     ]
    }
   ],
   "source": [
    "vector_row = np.array([1, 2, 3])\n",
    "vector_column = np.array([[1], \n",
    "                       [2], \n",
    "                       [3]])\n",
    "print(f\"Vector_Row : \\n{vector_row} \")\n",
    "print(f\"Vector_Column : \\n{vector_column} \")"
   ]
  },
  {
   "cell_type": "markdown",
   "id": "b211a19c",
   "metadata": {},
   "source": [
    "1.2 : Creating a Matrix"
   ]
  },
  {
   "cell_type": "code",
   "execution_count": 3,
   "id": "54457a2b",
   "metadata": {},
   "outputs": [
    {
     "name": "stdout",
     "output_type": "stream",
     "text": [
      "Matrix : \n",
      "[[1 2]\n",
      " [4 5]\n",
      " [7 8]] \n"
     ]
    }
   ],
   "source": [
    "matrix = np.array([[1, 2],\n",
    "                   [4, 5],\n",
    "                   [7, 8]])\n",
    "print(f\"Matrix : \\n{matrix} \")"
   ]
  },
  {
   "cell_type": "markdown",
   "id": "4dbd8440",
   "metadata": {},
   "source": [
    "Discussion"
   ]
  },
  {
   "cell_type": "code",
   "execution_count": 4,
   "id": "33b47e70",
   "metadata": {},
   "outputs": [
    {
     "name": "stdout",
     "output_type": "stream",
     "text": [
      "Matrix Object : \n",
      "[[1 2]\n",
      " [1 2]\n",
      " [1 2]] \n"
     ]
    }
   ],
   "source": [
    "matrix_object = np.asmatrix([[1,2],\n",
    "                         [1,2],\n",
    "                         [1,2]])\n",
    "print(f\"Matrix Object : \\n{matrix_object} \")"
   ]
  },
  {
   "cell_type": "markdown",
   "id": "02be3638",
   "metadata": {},
   "source": [
    "1.3 : Creating a Sparse Matrix"
   ]
  },
  {
   "cell_type": "markdown",
   "id": "3c0d2d47",
   "metadata": {},
   "source": [
    "Sparse Matrix แสดงเฉพาะตำแหน่งและค่าที่ไม่เป็นศูนย์"
   ]
  },
  {
   "cell_type": "code",
   "execution_count": 5,
   "id": "b31fe930",
   "metadata": {},
   "outputs": [
    {
     "name": "stdout",
     "output_type": "stream",
     "text": [
      "Sparse Matrix : \n",
      "<Compressed Sparse Row sparse matrix of dtype 'int64'\n",
      "\twith 2 stored elements and shape (3, 2)>\n",
      "  Coords\tValues\n",
      "  (1, 1)\t1\n",
      "  (2, 0)\t3 \n"
     ]
    }
   ],
   "source": [
    "matrix = np.array([[0,0],\n",
    "                   [0,1],\n",
    "                   [3,0]])\n",
    "matrix_sparse = sparse.csr_matrix(matrix)\n",
    "print(f\"Sparse Matrix : \\n{matrix_sparse} \")"
   ]
  },
  {
   "cell_type": "code",
   "execution_count": 6,
   "id": "47cb66e8",
   "metadata": {},
   "outputs": [
    {
     "name": "stdout",
     "output_type": "stream",
     "text": [
      "Sparse Matrix Large : \n",
      "<Compressed Sparse Row sparse matrix of dtype 'int64'\n",
      "\twith 2 stored elements and shape (3, 10)>\n",
      "  Coords\tValues\n",
      "  (1, 1)\t1\n",
      "  (2, 0)\t3 \n"
     ]
    }
   ],
   "source": [
    "matrix_large = np.array([[0,0,0,0,0,0,0,0,0,0],\n",
    "                         [0,1,0,0,0,0,0,0,0,0],\n",
    "                         [3,0,0,0,0,0,0,0,0,0]])\n",
    "matrix_large_sparse = sparse.csr_matrix(matrix_large)\n",
    "print(f\"Sparse Matrix Large : \\n{matrix_large_sparse} \")"
   ]
  },
  {
   "cell_type": "markdown",
   "id": "f4eaa357",
   "metadata": {},
   "source": [
    "1.4 : Preallocating Numpy Arrays"
   ]
  },
  {
   "cell_type": "code",
   "execution_count": 7,
   "id": "119132ed",
   "metadata": {},
   "outputs": [
    {
     "name": "stdout",
     "output_type": "stream",
     "text": [
      "[0. 0. 0. 0. 0.]\n"
     ]
    }
   ],
   "source": [
    "vector = np.zeros(shape=5)\n",
    "print(vector)"
   ]
  },
  {
   "cell_type": "code",
   "execution_count": 8,
   "id": "a51d38e0",
   "metadata": {},
   "outputs": [
    {
     "name": "stdout",
     "output_type": "stream",
     "text": [
      "[[1 1 1]\n",
      " [1 1 1]\n",
      " [1 1 1]]\n"
     ]
    }
   ],
   "source": [
    "matrix = np.full(shape=(3,3), fill_value=1)\n",
    "print(matrix)"
   ]
  },
  {
   "cell_type": "markdown",
   "id": "9c5b6aa0",
   "metadata": {},
   "source": [
    "1.5 : Selecting Elements"
   ]
  },
  {
   "cell_type": "code",
   "execution_count": 11,
   "id": "c2a6c6b6",
   "metadata": {},
   "outputs": [],
   "source": [
    "vector = np.array([1,2,3,4,5,6])\n",
    "matrix = np.array([[1,2,3],\n",
    "                   [4,5,6],\n",
    "                   [7,8,9]])"
   ]
  },
  {
   "cell_type": "markdown",
   "id": "100e01e5",
   "metadata": {},
   "source": [
    "เลือกตำแหน่งที่ 3 ใน vector"
   ]
  },
  {
   "cell_type": "code",
   "execution_count": 12,
   "id": "bbaa8834",
   "metadata": {},
   "outputs": [
    {
     "data": {
      "text/plain": [
       "np.int64(3)"
      ]
     },
     "execution_count": 12,
     "metadata": {},
     "output_type": "execute_result"
    }
   ],
   "source": [
    "vector[2]"
   ]
  },
  {
   "cell_type": "markdown",
   "id": "7e340e8f",
   "metadata": {},
   "source": [
    "เลือก แถวที่ 2 และ คอลัมน์ที่ 2 "
   ]
  },
  {
   "cell_type": "code",
   "execution_count": 13,
   "id": "c5f288f6",
   "metadata": {},
   "outputs": [
    {
     "data": {
      "text/plain": [
       "np.int64(5)"
      ]
     },
     "execution_count": 13,
     "metadata": {},
     "output_type": "execute_result"
    }
   ],
   "source": [
    "matrix[1,1]"
   ]
  },
  {
   "cell_type": "markdown",
   "id": "61bf9a80",
   "metadata": {},
   "source": [
    "แสดงค่าทั้งหมดใน vector"
   ]
  },
  {
   "cell_type": "code",
   "execution_count": 14,
   "id": "0538f9c8",
   "metadata": {},
   "outputs": [
    {
     "data": {
      "text/plain": [
       "array([1, 2, 3, 4, 5, 6])"
      ]
     },
     "execution_count": 14,
     "metadata": {},
     "output_type": "execute_result"
    }
   ],
   "source": [
    "vector[:]"
   ]
  },
  {
   "cell_type": "markdown",
   "id": "8150c1a8",
   "metadata": {},
   "source": [
    "เลือกทุกค่าจนถึงค่าที่ต้องการรวมอยู่ด้วย"
   ]
  },
  {
   "cell_type": "code",
   "execution_count": 15,
   "id": "163d5685",
   "metadata": {},
   "outputs": [
    {
     "data": {
      "text/plain": [
       "array([1, 2, 3])"
      ]
     },
     "execution_count": 15,
     "metadata": {},
     "output_type": "execute_result"
    }
   ],
   "source": [
    "vector[:3]"
   ]
  },
  {
   "cell_type": "markdown",
   "id": "73ebde10",
   "metadata": {},
   "source": [
    "เลือกทุกค่าจนหลังจากค่าที่ต้องการ"
   ]
  },
  {
   "cell_type": "code",
   "execution_count": 16,
   "id": "f5977ac2",
   "metadata": {},
   "outputs": [
    {
     "data": {
      "text/plain": [
       "array([4, 5, 6])"
      ]
     },
     "execution_count": 16,
     "metadata": {},
     "output_type": "execute_result"
    }
   ],
   "source": [
    "vector[3:]"
   ]
  },
  {
   "cell_type": "markdown",
   "id": "8ffefb5b",
   "metadata": {},
   "source": [
    "เลือกค่าสุดท้าย"
   ]
  },
  {
   "cell_type": "code",
   "execution_count": 17,
   "id": "a7e4a0d0",
   "metadata": {},
   "outputs": [
    {
     "data": {
      "text/plain": [
       "np.int64(6)"
      ]
     },
     "execution_count": 17,
     "metadata": {},
     "output_type": "execute_result"
    }
   ],
   "source": [
    "vector[-1]"
   ]
  },
  {
   "cell_type": "markdown",
   "id": "c929b2d6",
   "metadata": {},
   "source": [
    "สลับตำแหน่งใน vector"
   ]
  },
  {
   "cell_type": "code",
   "execution_count": 18,
   "id": "0bbc55f1",
   "metadata": {},
   "outputs": [
    {
     "data": {
      "text/plain": [
       "array([6, 5, 4, 3, 2, 1])"
      ]
     },
     "execution_count": 18,
     "metadata": {},
     "output_type": "execute_result"
    }
   ],
   "source": [
    "vector[::-1]"
   ]
  },
  {
   "cell_type": "code",
   "execution_count": 19,
   "id": "94653b11",
   "metadata": {},
   "outputs": [
    {
     "data": {
      "text/plain": [
       "array([[1, 2, 3],\n",
       "       [4, 5, 6]])"
      ]
     },
     "execution_count": 19,
     "metadata": {},
     "output_type": "execute_result"
    }
   ],
   "source": [
    "matrix[:2,:]"
   ]
  },
  {
   "cell_type": "code",
   "execution_count": 20,
   "id": "784d81bc",
   "metadata": {},
   "outputs": [
    {
     "data": {
      "text/plain": [
       "array([[2],\n",
       "       [5],\n",
       "       [8]])"
      ]
     },
     "execution_count": 20,
     "metadata": {},
     "output_type": "execute_result"
    }
   ],
   "source": [
    "matrix[:,1:2]"
   ]
  },
  {
   "cell_type": "markdown",
   "id": "3791cf23",
   "metadata": {},
   "source": [
    "1.6 : Describing a Matrix"
   ]
  },
  {
   "cell_type": "code",
   "execution_count": 21,
   "id": "287663ea",
   "metadata": {},
   "outputs": [],
   "source": [
    "matrix = np.array([[1, 2, 3,4],\n",
    "                   [5, 6, 7,8],\n",
    "                   [9,10,11,12]])"
   ]
  },
  {
   "cell_type": "markdown",
   "id": "0a0d729d",
   "metadata": {},
   "source": [
    "จำนวน แถว และ คอลัมน์"
   ]
  },
  {
   "cell_type": "code",
   "execution_count": 22,
   "id": "8da36291",
   "metadata": {},
   "outputs": [
    {
     "data": {
      "text/plain": [
       "(3, 4)"
      ]
     },
     "execution_count": 22,
     "metadata": {},
     "output_type": "execute_result"
    }
   ],
   "source": [
    "matrix.shape"
   ]
  },
  {
   "cell_type": "markdown",
   "id": "3499e4ba",
   "metadata": {},
   "source": [
    "จำนวนทั้งหมด"
   ]
  },
  {
   "cell_type": "code",
   "execution_count": 23,
   "id": "d29872fa",
   "metadata": {},
   "outputs": [
    {
     "data": {
      "text/plain": [
       "12"
      ]
     },
     "execution_count": 23,
     "metadata": {},
     "output_type": "execute_result"
    }
   ],
   "source": [
    "matrix.size"
   ]
  },
  {
   "cell_type": "code",
   "execution_count": 24,
   "id": "17db70b5",
   "metadata": {},
   "outputs": [
    {
     "data": {
      "text/plain": [
       "2"
      ]
     },
     "execution_count": 24,
     "metadata": {},
     "output_type": "execute_result"
    }
   ],
   "source": [
    "matrix.ndim"
   ]
  },
  {
   "cell_type": "markdown",
   "id": "1dbeee8f",
   "metadata": {},
   "source": [
    "1.7 : Applying Functions over Each Element"
   ]
  },
  {
   "cell_type": "code",
   "execution_count": 25,
   "id": "ecfd2a35",
   "metadata": {},
   "outputs": [],
   "source": [
    "matrix = np.array([[1, 2, 3],\n",
    "                   [4, 5, 6],\n",
    "                   [7, 8, 9]])"
   ]
  },
  {
   "cell_type": "code",
   "execution_count": 26,
   "id": "e68ba237",
   "metadata": {},
   "outputs": [
    {
     "data": {
      "text/plain": [
       "np.int64(9)"
      ]
     },
     "execution_count": 26,
     "metadata": {},
     "output_type": "execute_result"
    }
   ],
   "source": [
    "np.max(matrix)"
   ]
  },
  {
   "cell_type": "code",
   "execution_count": 27,
   "id": "3ddebc40",
   "metadata": {},
   "outputs": [
    {
     "data": {
      "text/plain": [
       "np.int64(1)"
      ]
     },
     "execution_count": 27,
     "metadata": {},
     "output_type": "execute_result"
    }
   ],
   "source": [
    "np.min(matrix)"
   ]
  },
  {
   "cell_type": "markdown",
   "id": "1bdfa1ea",
   "metadata": {},
   "source": [
    "Discussion"
   ]
  },
  {
   "cell_type": "markdown",
   "id": "400fb1fd",
   "metadata": {},
   "source": [
    "คอลัมน์ที่มีค่ามากที่สุด"
   ]
  },
  {
   "cell_type": "code",
   "execution_count": 28,
   "id": "9bdf3f66",
   "metadata": {},
   "outputs": [
    {
     "data": {
      "text/plain": [
       "array([7, 8, 9])"
      ]
     },
     "execution_count": 28,
     "metadata": {},
     "output_type": "execute_result"
    }
   ],
   "source": [
    "np.max(matrix,axis=0)"
   ]
  },
  {
   "cell_type": "markdown",
   "id": "89ea4797",
   "metadata": {},
   "source": [
    "แถวที่มีค่ามากที่สุด"
   ]
  },
  {
   "cell_type": "code",
   "execution_count": 29,
   "id": "1e9ca6ec",
   "metadata": {},
   "outputs": [
    {
     "data": {
      "text/plain": [
       "array([3, 6, 9])"
      ]
     },
     "execution_count": 29,
     "metadata": {},
     "output_type": "execute_result"
    }
   ],
   "source": [
    "np.max(matrix,axis=1)"
   ]
  },
  {
   "cell_type": "markdown",
   "id": "1e4d19d4",
   "metadata": {},
   "source": [
    "1.9 : Calculating the Average,Variance,and Standard Deviation"
   ]
  },
  {
   "cell_type": "code",
   "execution_count": 30,
   "id": "ca49f23d",
   "metadata": {},
   "outputs": [],
   "source": [
    "matrix = np.array([[1, 2, 3],\n",
    "                   [4, 5, 6],\n",
    "                   [7, 8, 9]])"
   ]
  },
  {
   "cell_type": "code",
   "execution_count": 31,
   "id": "46253623",
   "metadata": {},
   "outputs": [
    {
     "data": {
      "text/plain": [
       "np.float64(5.0)"
      ]
     },
     "execution_count": 31,
     "metadata": {},
     "output_type": "execute_result"
    }
   ],
   "source": [
    "np.mean(matrix)"
   ]
  },
  {
   "cell_type": "code",
   "execution_count": 33,
   "id": "94f0a867",
   "metadata": {},
   "outputs": [
    {
     "data": {
      "text/plain": [
       "np.float64(6.666666666666667)"
      ]
     },
     "execution_count": 33,
     "metadata": {},
     "output_type": "execute_result"
    }
   ],
   "source": [
    "np.var(matrix)"
   ]
  },
  {
   "cell_type": "code",
   "execution_count": 35,
   "id": "57cfe8b5",
   "metadata": {},
   "outputs": [
    {
     "data": {
      "text/plain": [
       "np.float64(2.581988897471611)"
      ]
     },
     "execution_count": 35,
     "metadata": {},
     "output_type": "execute_result"
    }
   ],
   "source": [
    "np.std(matrix)"
   ]
  },
  {
   "cell_type": "markdown",
   "id": "cd694bf7",
   "metadata": {},
   "source": [
    "Discussion"
   ]
  },
  {
   "cell_type": "code",
   "execution_count": 36,
   "id": "d7929681",
   "metadata": {},
   "outputs": [
    {
     "data": {
      "text/plain": [
       "array([4., 5., 6.])"
      ]
     },
     "execution_count": 36,
     "metadata": {},
     "output_type": "execute_result"
    }
   ],
   "source": [
    "np.mean(matrix,axis=0)"
   ]
  },
  {
   "cell_type": "markdown",
   "id": "fbc0b06e",
   "metadata": {},
   "source": [
    "1.10 : Reshaping Arrays"
   ]
  },
  {
   "cell_type": "code",
   "execution_count": 37,
   "id": "e311a913",
   "metadata": {},
   "outputs": [],
   "source": [
    "matrix = np.array([[1, 2, 3],\n",
    "                   [4, 5, 6],\n",
    "                   [7, 8, 9],\n",
    "                   [10,11,12]])"
   ]
  },
  {
   "cell_type": "code",
   "execution_count": 38,
   "id": "76c3aa35",
   "metadata": {},
   "outputs": [
    {
     "data": {
      "text/plain": [
       "array([[ 1,  2,  3,  4,  5,  6],\n",
       "       [ 7,  8,  9, 10, 11, 12]])"
      ]
     },
     "execution_count": 38,
     "metadata": {},
     "output_type": "execute_result"
    }
   ],
   "source": [
    "matrix.reshape(2,6)"
   ]
  },
  {
   "cell_type": "markdown",
   "id": "070b6ded",
   "metadata": {},
   "source": [
    "Discussion"
   ]
  },
  {
   "cell_type": "code",
   "execution_count": 39,
   "id": "7e8d3f93",
   "metadata": {},
   "outputs": [
    {
     "data": {
      "text/plain": [
       "12"
      ]
     },
     "execution_count": 39,
     "metadata": {},
     "output_type": "execute_result"
    }
   ],
   "source": [
    "matrix.size"
   ]
  },
  {
   "cell_type": "code",
   "execution_count": 41,
   "id": "54f4d14f",
   "metadata": {},
   "outputs": [
    {
     "data": {
      "text/plain": [
       "array([[ 1,  2,  3,  4,  5,  6,  7,  8,  9, 10, 11, 12]])"
      ]
     },
     "execution_count": 41,
     "metadata": {},
     "output_type": "execute_result"
    }
   ],
   "source": [
    "matrix.reshape(1,-1)"
   ]
  },
  {
   "cell_type": "code",
   "execution_count": 42,
   "id": "e6bd12c8",
   "metadata": {},
   "outputs": [
    {
     "data": {
      "text/plain": [
       "array([ 1,  2,  3,  4,  5,  6,  7,  8,  9, 10, 11, 12])"
      ]
     },
     "execution_count": 42,
     "metadata": {},
     "output_type": "execute_result"
    }
   ],
   "source": [
    "matrix.reshape(12)"
   ]
  },
  {
   "cell_type": "markdown",
   "id": "02fa09a1",
   "metadata": {},
   "source": [
    "1.11 : Transposing a Vector or Matrix"
   ]
  },
  {
   "cell_type": "code",
   "execution_count": 43,
   "id": "e0fdf159",
   "metadata": {},
   "outputs": [],
   "source": [
    "matrix = np.array([[1, 2, 3],\n",
    "                   [4, 5, 6],\n",
    "                   [7, 8, 9]])"
   ]
  },
  {
   "cell_type": "code",
   "execution_count": 44,
   "id": "4914ad8f",
   "metadata": {},
   "outputs": [
    {
     "data": {
      "text/plain": [
       "array([[1, 4, 7],\n",
       "       [2, 5, 8],\n",
       "       [3, 6, 9]])"
      ]
     },
     "execution_count": 44,
     "metadata": {},
     "output_type": "execute_result"
    }
   ],
   "source": [
    "matrix.T"
   ]
  },
  {
   "cell_type": "markdown",
   "id": "e715ad8d",
   "metadata": {},
   "source": [
    "Disscussion"
   ]
  },
  {
   "cell_type": "code",
   "execution_count": 45,
   "id": "7063e96e",
   "metadata": {},
   "outputs": [
    {
     "data": {
      "text/plain": [
       "array([1, 2, 3, 4, 5, 6])"
      ]
     },
     "execution_count": 45,
     "metadata": {},
     "output_type": "execute_result"
    }
   ],
   "source": [
    "np.array([1,2,3,4,5,6]).T"
   ]
  },
  {
   "cell_type": "code",
   "execution_count": 46,
   "id": "6a87702d",
   "metadata": {},
   "outputs": [
    {
     "data": {
      "text/plain": [
       "array([[1],\n",
       "       [2],\n",
       "       [3],\n",
       "       [4],\n",
       "       [5],\n",
       "       [6]])"
      ]
     },
     "execution_count": 46,
     "metadata": {},
     "output_type": "execute_result"
    }
   ],
   "source": [
    "np.array([[1,2,3,4,5,6]]).T"
   ]
  },
  {
   "cell_type": "markdown",
   "id": "a67130ac",
   "metadata": {},
   "source": [
    "1.12 : Flattening a Matrix"
   ]
  },
  {
   "cell_type": "code",
   "execution_count": 47,
   "id": "d6892a18",
   "metadata": {},
   "outputs": [],
   "source": [
    "matrix = np.array([[1, 2, 3],\n",
    "                   [4, 5, 6],\n",
    "                   [7, 8, 9]])"
   ]
  },
  {
   "cell_type": "markdown",
   "id": "ed8d1a88",
   "metadata": {},
   "source": [
    "แปลงให้อยู่ในรูป 1 มิติ"
   ]
  },
  {
   "cell_type": "code",
   "execution_count": 48,
   "id": "c562c2c3",
   "metadata": {},
   "outputs": [
    {
     "data": {
      "text/plain": [
       "array([1, 2, 3, 4, 5, 6, 7, 8, 9])"
      ]
     },
     "execution_count": 48,
     "metadata": {},
     "output_type": "execute_result"
    }
   ],
   "source": [
    "matrix.flatten()"
   ]
  },
  {
   "cell_type": "markdown",
   "id": "bfcd78f7",
   "metadata": {},
   "source": [
    "Discussion"
   ]
  },
  {
   "cell_type": "code",
   "execution_count": 49,
   "id": "aec9c70a",
   "metadata": {},
   "outputs": [
    {
     "data": {
      "text/plain": [
       "array([[1, 2, 3, 4, 5, 6, 7, 8, 9]])"
      ]
     },
     "execution_count": 49,
     "metadata": {},
     "output_type": "execute_result"
    }
   ],
   "source": [
    "matrix.reshape(1,-1)"
   ]
  },
  {
   "cell_type": "code",
   "execution_count": 51,
   "id": "724dda11",
   "metadata": {},
   "outputs": [],
   "source": [
    "matrix_a = np.array([[1,2],\n",
    "                     [3,4]])"
   ]
  },
  {
   "cell_type": "code",
   "execution_count": 52,
   "id": "8ef868be",
   "metadata": {},
   "outputs": [
    {
     "data": {
      "text/plain": [
       "array([[1, 2],\n",
       "       [3, 4]])"
      ]
     },
     "execution_count": 52,
     "metadata": {},
     "output_type": "execute_result"
    }
   ],
   "source": [
    "matrix_a"
   ]
  },
  {
   "cell_type": "code",
   "execution_count": 53,
   "id": "5f22388e",
   "metadata": {},
   "outputs": [],
   "source": [
    "matrix_b = np.array([[5,6],\n",
    "                     [7,8]])"
   ]
  },
  {
   "cell_type": "code",
   "execution_count": 54,
   "id": "6309a7d5",
   "metadata": {},
   "outputs": [
    {
     "data": {
      "text/plain": [
       "array([[5, 6],\n",
       "       [7, 8]])"
      ]
     },
     "execution_count": 54,
     "metadata": {},
     "output_type": "execute_result"
    }
   ],
   "source": [
    "matrix_b"
   ]
  },
  {
   "cell_type": "code",
   "execution_count": 55,
   "id": "241a92ae",
   "metadata": {},
   "outputs": [
    {
     "data": {
      "text/plain": [
       "[array([[1, 2],\n",
       "        [3, 4]]),\n",
       " array([[5, 6],\n",
       "        [7, 8]])]"
      ]
     },
     "execution_count": 55,
     "metadata": {},
     "output_type": "execute_result"
    }
   ],
   "source": [
    "matrix_list = [matrix_a, matrix_b]\n",
    "matrix_list"
   ]
  },
  {
   "cell_type": "code",
   "execution_count": 57,
   "id": "602ef04e",
   "metadata": {},
   "outputs": [
    {
     "data": {
      "text/plain": [
       "array([1, 2, 3, 4, 5, 6, 7, 8])"
      ]
     },
     "execution_count": 57,
     "metadata": {},
     "output_type": "execute_result"
    }
   ],
   "source": [
    "np.ravel(matrix_list)"
   ]
  },
  {
   "cell_type": "markdown",
   "id": "84324e53",
   "metadata": {},
   "source": [
    "1.13 : Finding the Rank of a Matrix"
   ]
  },
  {
   "cell_type": "code",
   "execution_count": 58,
   "id": "e925ba95",
   "metadata": {},
   "outputs": [],
   "source": [
    "matrix = np.array([[1, 1, 1],\n",
    "                   [1,1,10],\n",
    "                   [1,1,15]])"
   ]
  },
  {
   "cell_type": "code",
   "execution_count": 59,
   "id": "ff8e6902",
   "metadata": {},
   "outputs": [
    {
     "data": {
      "text/plain": [
       "np.int64(2)"
      ]
     },
     "execution_count": 59,
     "metadata": {},
     "output_type": "execute_result"
    }
   ],
   "source": [
    "np.linalg.matrix_rank(matrix)"
   ]
  },
  {
   "cell_type": "markdown",
   "id": "5ada75ce",
   "metadata": {},
   "source": [
    "1.14 : Getting the Diagonal of a Matrix"
   ]
  },
  {
   "cell_type": "code",
   "execution_count": 60,
   "id": "aeb8720d",
   "metadata": {},
   "outputs": [],
   "source": [
    "matrix = np.array([[1, 2, 3],\n",
    "                   [2, 4, 6],\n",
    "                   [3, 8, 9]])"
   ]
  },
  {
   "cell_type": "markdown",
   "id": "7d4cd8d3",
   "metadata": {},
   "source": [
    "เลือกค่าแนวทะแยง จาก ซ้ายไปขวา"
   ]
  },
  {
   "cell_type": "code",
   "execution_count": 61,
   "id": "9b89339d",
   "metadata": {},
   "outputs": [
    {
     "data": {
      "text/plain": [
       "array([1, 4, 9])"
      ]
     },
     "execution_count": 61,
     "metadata": {},
     "output_type": "execute_result"
    }
   ],
   "source": [
    "matrix.diagonal()"
   ]
  },
  {
   "cell_type": "code",
   "execution_count": 62,
   "id": "9a1c529f",
   "metadata": {},
   "outputs": [],
   "source": [
    "matrix_1 = np.array([[1,2,3],\n",
    "                     [4,5,6],   \n",
    "                     [7,8,9]])"
   ]
  },
  {
   "cell_type": "code",
   "execution_count": 63,
   "id": "c7687a44",
   "metadata": {},
   "outputs": [
    {
     "data": {
      "text/plain": [
       "array([1, 5, 9])"
      ]
     },
     "execution_count": 63,
     "metadata": {},
     "output_type": "execute_result"
    }
   ],
   "source": [
    "matrix_1.diagonal()"
   ]
  },
  {
   "cell_type": "markdown",
   "id": "50b5d8b9",
   "metadata": {},
   "source": [
    "Discussion"
   ]
  },
  {
   "cell_type": "code",
   "execution_count": 64,
   "id": "71d308f7",
   "metadata": {},
   "outputs": [
    {
     "data": {
      "text/plain": [
       "array([2, 6])"
      ]
     },
     "execution_count": 64,
     "metadata": {},
     "output_type": "execute_result"
    }
   ],
   "source": [
    "matrix.diagonal(offset=1)"
   ]
  },
  {
   "cell_type": "code",
   "execution_count": 65,
   "id": "b29f6460",
   "metadata": {},
   "outputs": [
    {
     "data": {
      "text/plain": [
       "array([2, 8])"
      ]
     },
     "execution_count": 65,
     "metadata": {},
     "output_type": "execute_result"
    }
   ],
   "source": [
    "matrix.diagonal(offset=-1)"
   ]
  },
  {
   "cell_type": "markdown",
   "id": "bbfd8dbd",
   "metadata": {},
   "source": [
    "1.15 : Calculating the Trace of a Matrix"
   ]
  },
  {
   "cell_type": "code",
   "execution_count": 68,
   "id": "fd9fae94",
   "metadata": {},
   "outputs": [],
   "source": [
    "matrix = np.array([[1, 2, 3],\n",
    "                   [2, 4, 6],\n",
    "                   [3, 8, 9]])"
   ]
  },
  {
   "cell_type": "markdown",
   "id": "c082c669",
   "metadata": {},
   "source": [
    "ผลรวมแนวทะแยงจากซ้ายไปขวา"
   ]
  },
  {
   "cell_type": "code",
   "execution_count": 69,
   "id": "ffbf1122",
   "metadata": {},
   "outputs": [
    {
     "data": {
      "text/plain": [
       "np.int64(14)"
      ]
     },
     "execution_count": 69,
     "metadata": {},
     "output_type": "execute_result"
    }
   ],
   "source": [
    "matrix.trace()"
   ]
  },
  {
   "cell_type": "markdown",
   "id": "660ece9c",
   "metadata": {},
   "source": [
    "Discussion"
   ]
  },
  {
   "cell_type": "code",
   "execution_count": 70,
   "id": "ca30ca18",
   "metadata": {},
   "outputs": [
    {
     "data": {
      "text/plain": [
       "np.int64(14)"
      ]
     },
     "execution_count": 70,
     "metadata": {},
     "output_type": "execute_result"
    }
   ],
   "source": [
    "sum(matrix.diagonal())"
   ]
  },
  {
   "cell_type": "markdown",
   "id": "9beb18d9",
   "metadata": {},
   "source": [
    "1.16 : Calculating Dot Products"
   ]
  },
  {
   "cell_type": "code",
   "execution_count": 71,
   "id": "eaeda292",
   "metadata": {},
   "outputs": [],
   "source": [
    "vector_a = np.array([1,2,3])\n",
    "vector_b = np.array([4,5,6])"
   ]
  },
  {
   "cell_type": "code",
   "execution_count": 72,
   "id": "4aeb7842",
   "metadata": {},
   "outputs": [
    {
     "data": {
      "text/plain": [
       "np.int64(32)"
      ]
     },
     "execution_count": 72,
     "metadata": {},
     "output_type": "execute_result"
    }
   ],
   "source": [
    "np.dot(vector_a, vector_b)"
   ]
  },
  {
   "cell_type": "markdown",
   "id": "3b5f84c8",
   "metadata": {},
   "source": [
    "Discission"
   ]
  },
  {
   "cell_type": "code",
   "execution_count": 74,
   "id": "bf1fdae3",
   "metadata": {},
   "outputs": [
    {
     "data": {
      "text/plain": [
       "np.int64(32)"
      ]
     },
     "execution_count": 74,
     "metadata": {},
     "output_type": "execute_result"
    }
   ],
   "source": [
    "vector_a @ vector_b "
   ]
  },
  {
   "cell_type": "markdown",
   "id": "bc036936",
   "metadata": {},
   "source": [
    "ที่มาของการคิด"
   ]
  },
  {
   "cell_type": "code",
   "execution_count": 75,
   "id": "053b3af3",
   "metadata": {},
   "outputs": [
    {
     "data": {
      "text/plain": [
       "np.int64(32)"
      ]
     },
     "execution_count": 75,
     "metadata": {},
     "output_type": "execute_result"
    }
   ],
   "source": [
    "vector_a[0] * vector_b[0] + vector_a[1] * vector_b[1] + vector_a[2] * vector_b[2]"
   ]
  },
  {
   "cell_type": "markdown",
   "id": "db3a77e1",
   "metadata": {},
   "source": [
    "1.17 : Adding and Subtracting Matrices"
   ]
  },
  {
   "cell_type": "code",
   "execution_count": 76,
   "id": "ba37a5a6",
   "metadata": {},
   "outputs": [],
   "source": [
    "matrix_a = np.array([[1, 1, 1],\n",
    "                     [1, 1, 1],  \n",
    "                     [1, 1, 2]])\n",
    "matrix_b = np.array([[1, 3, 1],\n",
    "                     [1, 3, 1],  \n",
    "                     [1, 3, 8]])"
   ]
  },
  {
   "cell_type": "markdown",
   "id": "62445d4f",
   "metadata": {},
   "source": [
    "matrix_a + matrix_b"
   ]
  },
  {
   "cell_type": "code",
   "execution_count": 77,
   "id": "9905fff1",
   "metadata": {},
   "outputs": [
    {
     "data": {
      "text/plain": [
       "array([[ 2,  4,  2],\n",
       "       [ 2,  4,  2],\n",
       "       [ 2,  4, 10]])"
      ]
     },
     "execution_count": 77,
     "metadata": {},
     "output_type": "execute_result"
    }
   ],
   "source": [
    "np.add(matrix_a, matrix_b)"
   ]
  },
  {
   "cell_type": "markdown",
   "id": "5294d27b",
   "metadata": {},
   "source": [
    "matrix_a - matrix_b"
   ]
  },
  {
   "cell_type": "code",
   "execution_count": 78,
   "id": "bc0301e1",
   "metadata": {},
   "outputs": [
    {
     "data": {
      "text/plain": [
       "array([[ 0, -2,  0],\n",
       "       [ 0, -2,  0],\n",
       "       [ 0, -2, -6]])"
      ]
     },
     "execution_count": 78,
     "metadata": {},
     "output_type": "execute_result"
    }
   ],
   "source": [
    "np.subtract(matrix_a, matrix_b)"
   ]
  },
  {
   "cell_type": "markdown",
   "id": "ae9bc1a4",
   "metadata": {},
   "source": [
    "Discussion"
   ]
  },
  {
   "cell_type": "code",
   "execution_count": 79,
   "id": "7cd51a5a",
   "metadata": {},
   "outputs": [
    {
     "data": {
      "text/plain": [
       "array([[ 2,  4,  2],\n",
       "       [ 2,  4,  2],\n",
       "       [ 2,  4, 10]])"
      ]
     },
     "execution_count": 79,
     "metadata": {},
     "output_type": "execute_result"
    }
   ],
   "source": [
    "matrix_a+ matrix_b"
   ]
  },
  {
   "cell_type": "code",
   "execution_count": 80,
   "id": "22db6b26",
   "metadata": {},
   "outputs": [
    {
     "data": {
      "text/plain": [
       "array([[ 0, -2,  0],\n",
       "       [ 0, -2,  0],\n",
       "       [ 0, -2, -6]])"
      ]
     },
     "execution_count": 80,
     "metadata": {},
     "output_type": "execute_result"
    }
   ],
   "source": [
    "matrix_a-matrix_b"
   ]
  },
  {
   "cell_type": "markdown",
   "id": "6f832a0c",
   "metadata": {},
   "source": [
    "1.18 : Multiplying Matrices"
   ]
  },
  {
   "cell_type": "code",
   "execution_count": 81,
   "id": "7068b1f8",
   "metadata": {},
   "outputs": [],
   "source": [
    "matrix_a = np.array([[1, 1],\n",
    "                     [1, 2]])\n",
    "matrix_b = np.array([[1, 3],\n",
    "                     [1, 2]])"
   ]
  },
  {
   "cell_type": "code",
   "execution_count": 82,
   "id": "f5c0ae16",
   "metadata": {},
   "outputs": [
    {
     "data": {
      "text/plain": [
       "array([[2, 5],\n",
       "       [3, 7]])"
      ]
     },
     "execution_count": 82,
     "metadata": {},
     "output_type": "execute_result"
    }
   ],
   "source": [
    "np.dot(matrix_a, matrix_b)"
   ]
  },
  {
   "cell_type": "markdown",
   "id": "8dfd9391",
   "metadata": {},
   "source": [
    "Discussion"
   ]
  },
  {
   "cell_type": "markdown",
   "id": "34f268b4",
   "metadata": {},
   "source": [
    "คูณ Matrix"
   ]
  },
  {
   "cell_type": "code",
   "execution_count": 83,
   "id": "334fa2a0",
   "metadata": {},
   "outputs": [
    {
     "data": {
      "text/plain": [
       "array([[2, 5],\n",
       "       [3, 7]])"
      ]
     },
     "execution_count": 83,
     "metadata": {},
     "output_type": "execute_result"
    }
   ],
   "source": [
    "matrix_a @ matrix_b"
   ]
  },
  {
   "cell_type": "markdown",
   "id": "0c214047",
   "metadata": {},
   "source": [
    "คูณตามตำแหน่ง"
   ]
  },
  {
   "cell_type": "code",
   "execution_count": 84,
   "id": "9a588ec6",
   "metadata": {},
   "outputs": [
    {
     "data": {
      "text/plain": [
       "array([[1, 3],\n",
       "       [1, 4]])"
      ]
     },
     "execution_count": 84,
     "metadata": {},
     "output_type": "execute_result"
    }
   ],
   "source": [
    "matrix_a * matrix_b"
   ]
  },
  {
   "cell_type": "markdown",
   "id": "63f21816",
   "metadata": {},
   "source": [
    "1.19 Inverting a Matrix"
   ]
  },
  {
   "cell_type": "code",
   "execution_count": 85,
   "id": "2f500e73",
   "metadata": {},
   "outputs": [],
   "source": [
    "matrix = np.array([[1,4],\n",
    "                   [2,5]])"
   ]
  },
  {
   "cell_type": "code",
   "execution_count": 86,
   "id": "5a17ad74",
   "metadata": {},
   "outputs": [
    {
     "data": {
      "text/plain": [
       "array([[-1.66666667,  1.33333333],\n",
       "       [ 0.66666667, -0.33333333]])"
      ]
     },
     "execution_count": 86,
     "metadata": {},
     "output_type": "execute_result"
    }
   ],
   "source": [
    "np.linalg.inv(matrix)"
   ]
  },
  {
   "cell_type": "markdown",
   "id": "02c59927",
   "metadata": {},
   "source": [
    "Disussion"
   ]
  },
  {
   "cell_type": "code",
   "execution_count": 92,
   "id": "5259c859",
   "metadata": {},
   "outputs": [
    {
     "data": {
      "text/plain": [
       "array([[1.00000000e+00, 0.00000000e+00],\n",
       "       [1.11022302e-16, 1.00000000e+00]])"
      ]
     },
     "execution_count": 92,
     "metadata": {},
     "output_type": "execute_result"
    }
   ],
   "source": [
    "matrix @ np.linalg.inv(matrix)"
   ]
  },
  {
   "cell_type": "markdown",
   "id": "fded2501",
   "metadata": {},
   "source": [
    "1.20 : Generating Random Values"
   ]
  },
  {
   "cell_type": "code",
   "execution_count": 94,
   "id": "68a37abb",
   "metadata": {},
   "outputs": [
    {
     "data": {
      "text/plain": [
       "array([0.5488135 , 0.71518937, 0.60276338])"
      ]
     },
     "execution_count": 94,
     "metadata": {},
     "output_type": "execute_result"
    }
   ],
   "source": [
    "np.random.seed(0)\n",
    "np.random.random(3)"
   ]
  },
  {
   "cell_type": "markdown",
   "id": "af123718",
   "metadata": {},
   "source": [
    "Discussion"
   ]
  },
  {
   "cell_type": "code",
   "execution_count": 95,
   "id": "d75be82b",
   "metadata": {},
   "outputs": [
    {
     "data": {
      "text/plain": [
       "array([3, 7, 9], dtype=int32)"
      ]
     },
     "execution_count": 95,
     "metadata": {},
     "output_type": "execute_result"
    }
   ],
   "source": [
    "np.random.randint(0,11,3)"
   ]
  },
  {
   "cell_type": "code",
   "execution_count": 96,
   "id": "c2166118",
   "metadata": {},
   "outputs": [
    {
     "data": {
      "text/plain": [
       "array([-1.42232584,  1.52006949, -0.29139398])"
      ]
     },
     "execution_count": 96,
     "metadata": {},
     "output_type": "execute_result"
    }
   ],
   "source": [
    "np.random.normal(0.0,1.0,3)"
   ]
  },
  {
   "cell_type": "code",
   "execution_count": 98,
   "id": "08e5061b",
   "metadata": {},
   "outputs": [
    {
     "data": {
      "text/plain": [
       "array([-0.98118713, -0.08939902,  1.46416405])"
      ]
     },
     "execution_count": 98,
     "metadata": {},
     "output_type": "execute_result"
    }
   ],
   "source": [
    "np.random.logistic(0.0,1.0,3)"
   ]
  },
  {
   "cell_type": "code",
   "execution_count": 99,
   "id": "27972732",
   "metadata": {},
   "outputs": [
    {
     "data": {
      "text/plain": [
       "array([1.47997717, 1.3927848 , 1.83607876])"
      ]
     },
     "execution_count": 99,
     "metadata": {},
     "output_type": "execute_result"
    }
   ],
   "source": [
    "np.random.uniform(1.0,2.0,3)"
   ]
  },
  {
   "cell_type": "code",
   "execution_count": null,
   "id": "5f30315a",
   "metadata": {},
   "outputs": [],
   "source": []
  }
 ],
 "metadata": {
  "kernelspec": {
   "display_name": "datascience",
   "language": "python",
   "name": "python3"
  },
  "language_info": {
   "codemirror_mode": {
    "name": "ipython",
    "version": 3
   },
   "file_extension": ".py",
   "mimetype": "text/x-python",
   "name": "python",
   "nbconvert_exporter": "python",
   "pygments_lexer": "ipython3",
   "version": "3.13.2"
  }
 },
 "nbformat": 4,
 "nbformat_minor": 5
}
